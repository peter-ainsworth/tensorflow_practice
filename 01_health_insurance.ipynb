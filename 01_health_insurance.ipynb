{
  "nbformat": 4,
  "nbformat_minor": 0,
  "metadata": {
    "colab": {
      "provenance": [],
      "authorship_tag": "ABX9TyMqhQvbYpGc05zON7cIjSoB",
      "include_colab_link": true
    },
    "kernelspec": {
      "name": "python3",
      "display_name": "Python 3"
    },
    "language_info": {
      "name": "python"
    }
  },
  "cells": [
    {
      "cell_type": "markdown",
      "metadata": {
        "id": "view-in-github",
        "colab_type": "text"
      },
      "source": [
        "<a href=\"https://colab.research.google.com/github/peter-ainsworth/tensorflow_regression/blob/main/01_health_insurance.ipynb\" target=\"_parent\"><img src=\"https://colab.research.google.com/assets/colab-badge.svg\" alt=\"Open In Colab\"/></a>"
      ]
    },
    {
      "cell_type": "markdown",
      "source": [
        "#Introduction to regression with neural networks in TensorFlow"
      ],
      "metadata": {
        "id": "lYj4JQ0CQ5I-"
      }
    },
    {
      "cell_type": "code",
      "source": [
        "#import tensor flow\n",
        "import tensorflow as tf\n",
        "print(tf.__version__)"
      ],
      "metadata": {
        "colab": {
          "base_uri": "https://localhost:8080/"
        },
        "id": "nuD-tzCjRMov",
        "outputId": "be612ef8-9c8c-4546-bb26-a3bd21e57f57"
      },
      "execution_count": null,
      "outputs": [
        {
          "output_type": "stream",
          "name": "stdout",
          "text": [
            "2.12.0\n"
          ]
        }
      ]
    },
    {
      "cell_type": "code",
      "source": [
        "import numpy as np\n",
        "import matplotlib.pyplot as plt\n",
        "\n",
        "#create features\n",
        "X = np.arange(-7.0, 15.0, 3.0)\n",
        "\n",
        "#create labels\n",
        "y = np.arange(3.0, 25.0, 3.0)\n",
        "\n",
        "#visualise\n",
        "plt.scatter(X,y)"
      ],
      "metadata": {
        "colab": {
          "base_uri": "https://localhost:8080/",
          "height": 452
        },
        "id": "tf6NZX4QRkMH",
        "outputId": "7a6c7a50-b3e8-432a-e39c-9d016c798ac7"
      },
      "execution_count": null,
      "outputs": [
        {
          "output_type": "execute_result",
          "data": {
            "text/plain": [
              "<matplotlib.collections.PathCollection at 0x7c78fc826e30>"
            ]
          },
          "metadata": {},
          "execution_count": 6
        },
        {
          "output_type": "display_data",
          "data": {
            "text/plain": [
              "<Figure size 640x480 with 1 Axes>"
            ],
            "image/png": "[encoded data removed]"
          },
          "metadata": {}
        }
      ]
    },
    {
      "cell_type": "code",
      "source": [
        "#input and output shapes\n",
        "X[0].shape, y[0].shape"
      ],
      "metadata": {
        "colab": {
          "base_uri": "https://localhost:8080/"
        },
        "id": "NoJYhJEfSfaq",
        "outputId": "2fa69170-6218-43bc-ee87-745cfe2038e2"
      },
      "execution_count": null,
      "outputs": [
        {
          "output_type": "execute_result",
          "data": {
            "text/plain": [
              "((), ())"
            ]
          },
          "metadata": {},
          "execution_count": 9
        }
      ]
    },
    {
      "cell_type": "code",
      "source": [
        "X = tf.constant(X)\n",
        "y = tf.constant(y)\n",
        "X[0].shape, y[0].shape"
      ],
      "metadata": {
        "colab": {
          "base_uri": "https://localhost:8080/"
        },
        "id": "4SMPRHmHUioi",
        "outputId": "9fec4a5c-1057-4299-dc79-c9221914133b"
      },
      "execution_count": null,
      "outputs": [
        {
          "output_type": "execute_result",
          "data": {
            "text/plain": [
              "(TensorShape([]), TensorShape([]))"
            ]
          },
          "metadata": {},
          "execution_count": 11
        }
      ]
    },
    {
      "cell_type": "markdown",
      "source": [
        "#Build a model"
      ],
      "metadata": {
        "id": "FB5S5rM1WTAp"
      }
    },
    {
      "cell_type": "code",
      "source": [
        "#set random seed\n",
        "tf.random.set_seed(8)\n",
        "\n",
        "#1. create a model\n",
        "model = tf.keras.Sequential([tf.keras.layers.Dense(1)])\n",
        "\n",
        "#2. compile the model\n",
        "model.compile(loss=tf.keras.losses.mae,\n",
        "              optimizer=tf.keras.optimizers.SGD(),\n",
        "              metrics=[\"mae\"])\n",
        "\n",
        "#3 fit model\n",
        "model.fit(tf.expand_dims(X, axis=1), y, epochs=5)"
      ],
      "metadata": {
        "colab": {
          "base_uri": "https://localhost:8080/"
        },
        "id": "4Hi836_tUzJa",
        "outputId": "e0788324-27b3-4c69-aa45-c28720233cc1"
      },
      "execution_count": null,
      "outputs": [
        {
          "output_type": "stream",
          "name": "stdout",
          "text": [
            "Epoch 1/5\n",
            "1/1 [==============================] - 1s 1s/step - loss: 19.7959 - mae: 19.7959\n",
            "Epoch 2/5\n",
            "1/1 [==============================] - 0s 35ms/step - loss: 19.5146 - mae: 19.5146\n",
            "Epoch 3/5\n",
            "1/1 [==============================] - 0s 23ms/step - loss: 19.2334 - mae: 19.2334\n",
            "Epoch 4/5\n",
            "1/1 [==============================] - 0s 18ms/step - loss: 18.9521 - mae: 18.9521\n",
            "Epoch 5/5\n",
            "1/1 [==============================] - 0s 19ms/step - loss: 18.6709 - mae: 18.6709\n"
          ]
        },
        {
          "output_type": "execute_result",
          "data": {
            "text/plain": [
              "<keras.callbacks.History at 0x7c78f77899f0>"
            ]
          },
          "metadata": {},
          "execution_count": 14
        }
      ]
    },
    {
      "cell_type": "code",
      "source": [
        "#make prediction\n",
        "model.predict([17.])"
      ],
      "metadata": {
        "colab": {
          "base_uri": "https://localhost:8080/"
        },
        "id": "8BXiAUySZWbz",
        "outputId": "d6cd3c84-6799-4a14-8dd1-0cac999099a0"
      },
      "execution_count": null,
      "outputs": [
        {
          "output_type": "stream",
          "name": "stdout",
          "text": [
            "1/1 [==============================] - 0s 121ms/step\n"
          ]
        },
        {
          "output_type": "execute_result",
          "data": {
            "text/plain": [
              "array([[-18.315222]], dtype=float32)"
            ]
          },
          "metadata": {},
          "execution_count": 16
        }
      ]
    },
    {
      "cell_type": "code",
      "source": [
        "#improve model-increase epochs\n",
        "#set random seed\n",
        "tf.random.set_seed(8)\n",
        "\n",
        "#1. create a model\n",
        "model = tf.keras.Sequential([tf.keras.layers.Dense(1)])\n",
        "\n",
        "#2. compile the model\n",
        "model.compile(loss=tf.keras.losses.mae,\n",
        "              optimizer=tf.keras.optimizers.SGD(),\n",
        "              metrics=[\"mae\"])\n",
        "\n",
        "#3 fit model\n",
        "model.fit(tf.expand_dims(X, axis=1), y, epochs=100)"
      ],
      "metadata": {
        "colab": {
          "base_uri": "https://localhost:8080/"
        },
        "id": "rGk0Ww-6Z3KL",
        "outputId": "da16944d-e355-4c7d-eaef-cb6ca23b1cc9"
      },
      "execution_count": null,
      "outputs": [
        {
          "output_type": "stream",
          "name": "stdout",
          "text": [
            "Epoch 1/100\n",
            "1/1 [==============================] - 0s 402ms/step - loss: 13.9337 - mae: 13.9337\n",
            "Epoch 2/100\n",
            "1/1 [==============================] - 0s 16ms/step - loss: 13.8012 - mae: 13.8012\n",
            "Epoch 3/100\n",
            "1/1 [==============================] - 0s 13ms/step - loss: 13.6687 - mae: 13.6687\n",
            "Epoch 4/100\n",
            "1/1 [==============================] - 0s 12ms/step - loss: 13.5362 - mae: 13.5362\n",
            "Epoch 5/100\n",
            "1/1 [==============================] - 0s 13ms/step - loss: 13.4037 - mae: 13.4037\n",
            "Epoch 6/100\n",
            "1/1 [==============================] - 0s 15ms/step - loss: 13.2712 - mae: 13.2712\n",
            "Epoch 7/100\n",
            "1/1 [==============================] - 0s 12ms/step - loss: 13.1387 - mae: 13.1387\n",
            "Epoch 8/100\n",
            "1/1 [==============================] - 0s 12ms/step - loss: 13.0062 - mae: 13.0062\n",
            "Epoch 9/100\n",
            "1/1 [==============================] - 0s 12ms/step - loss: 12.8737 - mae: 12.8737\n",
            "Epoch 10/100\n",
            "1/1 [==============================] - 0s 29ms/step - loss: 12.7412 - mae: 12.7412\n",
            "Epoch 11/100\n",
            "1/1 [==============================] - 0s 23ms/step - loss: 12.6087 - mae: 12.6087\n",
            "Epoch 12/100\n",
            "1/1 [==============================] - 0s 27ms/step - loss: 12.4762 - mae: 12.4762\n",
            "Epoch 13/100\n",
            "1/1 [==============================] - 0s 29ms/step - loss: 12.3437 - mae: 12.3437\n",
            "Epoch 14/100\n",
            "1/1 [==============================] - 0s 30ms/step - loss: 12.2112 - mae: 12.2112\n",
            "Epoch 15/100\n",
            "1/1 [==============================] - 0s 25ms/step - loss: 12.0787 - mae: 12.0787\n",
            "Epoch 16/100\n",
            "1/1 [==============================] - 0s 26ms/step - loss: 11.9462 - mae: 11.9462\n",
            "Epoch 17/100\n",
            "1/1 [==============================] - 0s 30ms/step - loss: 11.8137 - mae: 11.8137\n",
            "Epoch 18/100\n",
            "1/1 [==============================] - 0s 37ms/step - loss: 11.6812 - mae: 11.6812\n",
            "Epoch 19/100\n",
            "1/1 [==============================] - 0s 16ms/step - loss: 11.5487 - mae: 11.5487\n",
            "Epoch 20/100\n",
            "1/1 [==============================] - 0s 22ms/step - loss: 11.4162 - mae: 11.4162\n",
            "Epoch 21/100\n",
            "1/1 [==============================] - 0s 16ms/step - loss: 11.2837 - mae: 11.2837\n",
            "Epoch 22/100\n",
            "1/1 [==============================] - 0s 24ms/step - loss: 11.1512 - mae: 11.1512\n",
            "Epoch 23/100\n",
            "1/1 [==============================] - 0s 25ms/step - loss: 11.0187 - mae: 11.0187\n",
            "Epoch 24/100\n",
            "1/1 [==============================] - 0s 16ms/step - loss: 10.8862 - mae: 10.8862\n",
            "Epoch 25/100\n",
            "1/1 [==============================] - 0s 17ms/step - loss: 10.7537 - mae: 10.7537\n",
            "Epoch 26/100\n",
            "1/1 [==============================] - 0s 16ms/step - loss: 10.6212 - mae: 10.6212\n",
            "Epoch 27/100\n",
            "1/1 [==============================] - 0s 19ms/step - loss: 10.4887 - mae: 10.4887\n",
            "Epoch 28/100\n",
            "1/1 [==============================] - 0s 14ms/step - loss: 10.3562 - mae: 10.3562\n",
            "Epoch 29/100\n",
            "1/1 [==============================] - 0s 20ms/step - loss: 10.2237 - mae: 10.2237\n",
            "Epoch 30/100\n",
            "1/1 [==============================] - 0s 36ms/step - loss: 10.0912 - mae: 10.0912\n",
            "Epoch 31/100\n",
            "1/1 [==============================] - 0s 19ms/step - loss: 9.9587 - mae: 9.9587\n",
            "Epoch 32/100\n",
            "1/1 [==============================] - 0s 35ms/step - loss: 9.8262 - mae: 9.8262\n",
            "Epoch 33/100\n",
            "1/1 [==============================] - 0s 23ms/step - loss: 9.6937 - mae: 9.6937\n",
            "Epoch 34/100\n",
            "1/1 [==============================] - 0s 33ms/step - loss: 9.5612 - mae: 9.5612\n",
            "Epoch 35/100\n",
            "1/1 [==============================] - 0s 20ms/step - loss: 9.4287 - mae: 9.4287\n",
            "Epoch 36/100\n",
            "1/1 [==============================] - 0s 21ms/step - loss: 9.2962 - mae: 9.2962\n",
            "Epoch 37/100\n",
            "1/1 [==============================] - 0s 19ms/step - loss: 9.1637 - mae: 9.1637\n",
            "Epoch 38/100\n",
            "1/1 [==============================] - 0s 24ms/step - loss: 9.0312 - mae: 9.0312\n",
            "Epoch 39/100\n",
            "1/1 [==============================] - 0s 23ms/step - loss: 8.8987 - mae: 8.8987\n",
            "Epoch 40/100\n",
            "1/1 [==============================] - 0s 15ms/step - loss: 8.7662 - mae: 8.7662\n",
            "Epoch 41/100\n",
            "1/1 [==============================] - 0s 18ms/step - loss: 8.6337 - mae: 8.6337\n",
            "Epoch 42/100\n",
            "1/1 [==============================] - 0s 15ms/step - loss: 8.5012 - mae: 8.5012\n",
            "Epoch 43/100\n",
            "1/1 [==============================] - 0s 19ms/step - loss: 8.3687 - mae: 8.3687\n",
            "Epoch 44/100\n",
            "1/1 [==============================] - 0s 25ms/step - loss: 8.2362 - mae: 8.2362\n",
            "Epoch 45/100\n",
            "1/1 [==============================] - 0s 14ms/step - loss: 8.1037 - mae: 8.1037\n",
            "Epoch 46/100\n",
            "1/1 [==============================] - 0s 21ms/step - loss: 7.9712 - mae: 7.9712\n",
            "Epoch 47/100\n",
            "1/1 [==============================] - 0s 24ms/step - loss: 7.8387 - mae: 7.8387\n",
            "Epoch 48/100\n",
            "1/1 [==============================] - 0s 18ms/step - loss: 7.7062 - mae: 7.7062\n",
            "Epoch 49/100\n",
            "1/1 [==============================] - 0s 39ms/step - loss: 7.5737 - mae: 7.5737\n",
            "Epoch 50/100\n",
            "1/1 [==============================] - 0s 17ms/step - loss: 7.4412 - mae: 7.4412\n",
            "Epoch 51/100\n",
            "1/1 [==============================] - 0s 21ms/step - loss: 7.3087 - mae: 7.3087\n",
            "Epoch 52/100\n",
            "1/1 [==============================] - 0s 21ms/step - loss: 7.1762 - mae: 7.1762\n",
            "Epoch 53/100\n",
            "1/1 [==============================] - 0s 21ms/step - loss: 7.1100 - mae: 7.1100\n",
            "Epoch 54/100\n",
            "1/1 [==============================] - 0s 14ms/step - loss: 7.1044 - mae: 7.1044\n",
            "Epoch 55/100\n",
            "1/1 [==============================] - 0s 15ms/step - loss: 7.0988 - mae: 7.0988\n",
            "Epoch 56/100\n",
            "1/1 [==============================] - 0s 15ms/step - loss: 7.0931 - mae: 7.0931\n",
            "Epoch 57/100\n",
            "1/1 [==============================] - 0s 16ms/step - loss: 7.0875 - mae: 7.0875\n",
            "Epoch 58/100\n",
            "1/1 [==============================] - 0s 15ms/step - loss: 7.0819 - mae: 7.0819\n",
            "Epoch 59/100\n",
            "1/1 [==============================] - 0s 19ms/step - loss: 7.0763 - mae: 7.0763\n",
            "Epoch 60/100\n",
            "1/1 [==============================] - 0s 15ms/step - loss: 7.0706 - mae: 7.0706\n",
            "Epoch 61/100\n",
            "1/1 [==============================] - 0s 17ms/step - loss: 7.0650 - mae: 7.0650\n",
            "Epoch 62/100\n",
            "1/1 [==============================] - 0s 16ms/step - loss: 7.0594 - mae: 7.0594\n",
            "Epoch 63/100\n",
            "1/1 [==============================] - 0s 16ms/step - loss: 7.0538 - mae: 7.0538\n",
            "Epoch 64/100\n",
            "1/1 [==============================] - 0s 14ms/step - loss: 7.0481 - mae: 7.0481\n",
            "Epoch 65/100\n",
            "1/1 [==============================] - 0s 17ms/step - loss: 7.0425 - mae: 7.0425\n",
            "Epoch 66/100\n",
            "1/1 [==============================] - 0s 21ms/step - loss: 7.0369 - mae: 7.0369\n",
            "Epoch 67/100\n",
            "1/1 [==============================] - 0s 23ms/step - loss: 7.0313 - mae: 7.0313\n",
            "Epoch 68/100\n",
            "1/1 [==============================] - 0s 17ms/step - loss: 7.0256 - mae: 7.0256\n",
            "Epoch 69/100\n",
            "1/1 [==============================] - 0s 21ms/step - loss: 7.0200 - mae: 7.0200\n",
            "Epoch 70/100\n",
            "1/1 [==============================] - 0s 22ms/step - loss: 7.0144 - mae: 7.0144\n",
            "Epoch 71/100\n",
            "1/1 [==============================] - 0s 15ms/step - loss: 7.0087 - mae: 7.0087\n",
            "Epoch 72/100\n",
            "1/1 [==============================] - 0s 15ms/step - loss: 7.0031 - mae: 7.0031\n",
            "Epoch 73/100\n",
            "1/1 [==============================] - 0s 19ms/step - loss: 6.9975 - mae: 6.9975\n",
            "Epoch 74/100\n",
            "1/1 [==============================] - 0s 12ms/step - loss: 6.9919 - mae: 6.9919\n",
            "Epoch 75/100\n",
            "1/1 [==============================] - 0s 15ms/step - loss: 6.9863 - mae: 6.9863\n",
            "Epoch 76/100\n",
            "1/1 [==============================] - 0s 19ms/step - loss: 6.9806 - mae: 6.9806\n",
            "Epoch 77/100\n",
            "1/1 [==============================] - 0s 11ms/step - loss: 6.9750 - mae: 6.9750\n",
            "Epoch 78/100\n",
            "1/1 [==============================] - 0s 22ms/step - loss: 6.9694 - mae: 6.9694\n",
            "Epoch 79/100\n",
            "1/1 [==============================] - 0s 21ms/step - loss: 6.9638 - mae: 6.9638\n",
            "Epoch 80/100\n",
            "1/1 [==============================] - 0s 21ms/step - loss: 6.9581 - mae: 6.9581\n",
            "Epoch 81/100\n",
            "1/1 [==============================] - 0s 25ms/step - loss: 6.9525 - mae: 6.9525\n",
            "Epoch 82/100\n",
            "1/1 [==============================] - 0s 30ms/step - loss: 6.9469 - mae: 6.9469\n",
            "Epoch 83/100\n",
            "1/1 [==============================] - 0s 26ms/step - loss: 6.9413 - mae: 6.9413\n",
            "Epoch 84/100\n",
            "1/1 [==============================] - 0s 25ms/step - loss: 6.9356 - mae: 6.9356\n",
            "Epoch 85/100\n",
            "1/1 [==============================] - 0s 25ms/step - loss: 6.9300 - mae: 6.9300\n",
            "Epoch 86/100\n",
            "1/1 [==============================] - 0s 23ms/step - loss: 6.9244 - mae: 6.9244\n",
            "Epoch 87/100\n",
            "1/1 [==============================] - 0s 35ms/step - loss: 6.9188 - mae: 6.9188\n",
            "Epoch 88/100\n",
            "1/1 [==============================] - 0s 33ms/step - loss: 6.9131 - mae: 6.9131\n",
            "Epoch 89/100\n",
            "1/1 [==============================] - 0s 21ms/step - loss: 6.9075 - mae: 6.9075\n",
            "Epoch 90/100\n",
            "1/1 [==============================] - 0s 14ms/step - loss: 6.9019 - mae: 6.9019\n",
            "Epoch 91/100\n",
            "1/1 [==============================] - 0s 11ms/step - loss: 6.8963 - mae: 6.8963\n",
            "Epoch 92/100\n",
            "1/1 [==============================] - 0s 11ms/step - loss: 6.8906 - mae: 6.8906\n",
            "Epoch 93/100\n",
            "1/1 [==============================] - 0s 10ms/step - loss: 6.8850 - mae: 6.8850\n",
            "Epoch 94/100\n",
            "1/1 [==============================] - 0s 11ms/step - loss: 6.8794 - mae: 6.8794\n",
            "Epoch 95/100\n",
            "1/1 [==============================] - 0s 11ms/step - loss: 6.8738 - mae: 6.8738\n",
            "Epoch 96/100\n",
            "1/1 [==============================] - 0s 10ms/step - loss: 6.8681 - mae: 6.8681\n",
            "Epoch 97/100\n",
            "1/1 [==============================] - 0s 11ms/step - loss: 6.8625 - mae: 6.8625\n",
            "Epoch 98/100\n",
            "1/1 [==============================] - 0s 15ms/step - loss: 6.8569 - mae: 6.8569\n",
            "Epoch 99/100\n",
            "1/1 [==============================] - 0s 13ms/step - loss: 6.8513 - mae: 6.8513\n",
            "Epoch 100/100\n",
            "1/1 [==============================] - 0s 13ms/step - loss: 6.8456 - mae: 6.8456\n"
          ]
        },
        {
          "output_type": "execute_result",
          "data": {
            "text/plain": [
              "<keras.callbacks.History at 0x7c78f44e5e10>"
            ]
          },
          "metadata": {},
          "execution_count": 17
        }
      ]
    },
    {
      "cell_type": "code",
      "source": [
        "model.predict([17])"
      ],
      "metadata": {
        "colab": {
          "base_uri": "https://localhost:8080/"
        },
        "id": "mSdEn5ckcmms",
        "outputId": "3738e0ca-fc78-4462-e096-f8564ed74042"
      },
      "execution_count": null,
      "outputs": [
        {
          "output_type": "stream",
          "name": "stdout",
          "text": [
            "1/1 [==============================] - 0s 92ms/step\n"
          ]
        },
        {
          "output_type": "execute_result",
          "data": {
            "text/plain": [
              "array([[29.71335]], dtype=float32)"
            ]
          },
          "metadata": {},
          "execution_count": 19
        }
      ]
    },
    {
      "cell_type": "code",
      "source": [],
      "metadata": {
        "id": "WbvxT7JXdBMO"
      },
      "execution_count": null,
      "outputs": []
    },
    {
      "cell_type": "code",
      "source": [
        "#improve model-increase epochs\n",
        "#set random seed\n",
        "tf.random.set_seed(8)\n",
        "\n",
        "#1. create a model\n",
        "model = tf.keras.Sequential([\n",
        "    tf.keras.layers.Dense(100, activation = \"relu\"),\n",
        "    tf.keras.layers.Dense(1)\n",
        "    ])\n",
        "\n",
        "#2. compile the model\n",
        "model.compile(loss=tf.keras.losses.mae,\n",
        "              optimizer=tf.keras.optimizers.SGD(),\n",
        "              metrics=[\"mae\"])\n",
        "\n",
        "#3 fit model\n",
        "model.fit(tf.expand_dims(X, axis=1), y, epochs=100)"
      ],
      "metadata": {
        "colab": {
          "base_uri": "https://localhost:8080/"
        },
        "outputId": "a70b9b16-859a-420e-e8bc-2883486221a1",
        "id": "IGlDxPrNdd-K"
      },
      "execution_count": null,
      "outputs": [
        {
          "output_type": "stream",
          "name": "stdout",
          "text": [
            "Epoch 1/100\n",
            "1/1 [==============================] - 1s 536ms/step - loss: 12.9047 - mae: 12.9047\n",
            "Epoch 2/100\n",
            "1/1 [==============================] - 0s 13ms/step - loss: 12.3378 - mae: 12.3378\n",
            "Epoch 3/100\n",
            "1/1 [==============================] - 0s 13ms/step - loss: 11.7693 - mae: 11.7693\n",
            "Epoch 4/100\n",
            "1/1 [==============================] - 0s 16ms/step - loss: 11.1959 - mae: 11.1959\n",
            "Epoch 5/100\n",
            "1/1 [==============================] - 0s 15ms/step - loss: 10.6088 - mae: 10.6088\n",
            "Epoch 6/100\n",
            "1/1 [==============================] - 0s 14ms/step - loss: 9.9967 - mae: 9.9967\n",
            "Epoch 7/100\n",
            "1/1 [==============================] - 0s 12ms/step - loss: 9.3561 - mae: 9.3561\n",
            "Epoch 8/100\n",
            "1/1 [==============================] - 0s 14ms/step - loss: 8.6842 - mae: 8.6842\n",
            "Epoch 9/100\n",
            "1/1 [==============================] - 0s 14ms/step - loss: 7.9816 - mae: 7.9816\n",
            "Epoch 10/100\n",
            "1/1 [==============================] - 0s 14ms/step - loss: 7.2441 - mae: 7.2441\n",
            "Epoch 11/100\n",
            "1/1 [==============================] - 0s 18ms/step - loss: 6.4557 - mae: 6.4557\n",
            "Epoch 12/100\n",
            "1/1 [==============================] - 0s 11ms/step - loss: 5.6066 - mae: 5.6066\n",
            "Epoch 13/100\n",
            "1/1 [==============================] - 0s 12ms/step - loss: 4.6886 - mae: 4.6886\n",
            "Epoch 14/100\n",
            "1/1 [==============================] - 0s 13ms/step - loss: 4.0556 - mae: 4.0556\n",
            "Epoch 15/100\n",
            "1/1 [==============================] - 0s 11ms/step - loss: 3.9577 - mae: 3.9577\n",
            "Epoch 16/100\n",
            "1/1 [==============================] - 0s 12ms/step - loss: 3.9377 - mae: 3.9377\n",
            "Epoch 17/100\n",
            "1/1 [==============================] - 0s 12ms/step - loss: 3.9325 - mae: 3.9325\n",
            "Epoch 18/100\n",
            "1/1 [==============================] - 0s 12ms/step - loss: 3.9451 - mae: 3.9451\n",
            "Epoch 19/100\n",
            "1/1 [==============================] - 0s 11ms/step - loss: 3.9071 - mae: 3.9071\n",
            "Epoch 20/100\n",
            "1/1 [==============================] - 0s 12ms/step - loss: 3.9547 - mae: 3.9547\n",
            "Epoch 21/100\n",
            "1/1 [==============================] - 0s 12ms/step - loss: 3.8915 - mae: 3.8915\n",
            "Epoch 22/100\n",
            "1/1 [==============================] - 0s 12ms/step - loss: 3.9619 - mae: 3.9619\n",
            "Epoch 23/100\n",
            "1/1 [==============================] - 0s 11ms/step - loss: 3.8989 - mae: 3.8989\n",
            "Epoch 24/100\n",
            "1/1 [==============================] - 0s 12ms/step - loss: 3.9366 - mae: 3.9366\n",
            "Epoch 25/100\n",
            "1/1 [==============================] - 0s 13ms/step - loss: 3.9064 - mae: 3.9064\n",
            "Epoch 26/100\n",
            "1/1 [==============================] - 0s 12ms/step - loss: 3.9112 - mae: 3.9112\n",
            "Epoch 27/100\n",
            "1/1 [==============================] - 0s 12ms/step - loss: 3.9140 - mae: 3.9140\n",
            "Epoch 28/100\n",
            "1/1 [==============================] - 0s 12ms/step - loss: 3.8856 - mae: 3.8856\n",
            "Epoch 29/100\n",
            "1/1 [==============================] - 0s 12ms/step - loss: 3.9267 - mae: 3.9267\n",
            "Epoch 30/100\n",
            "1/1 [==============================] - 0s 11ms/step - loss: 3.8657 - mae: 3.8657\n",
            "Epoch 31/100\n",
            "1/1 [==============================] - 0s 11ms/step - loss: 3.9360 - mae: 3.9360\n",
            "Epoch 32/100\n",
            "1/1 [==============================] - 0s 13ms/step - loss: 3.8685 - mae: 3.8685\n",
            "Epoch 33/100\n",
            "1/1 [==============================] - 0s 13ms/step - loss: 3.9143 - mae: 3.9143\n",
            "Epoch 34/100\n",
            "1/1 [==============================] - 0s 13ms/step - loss: 3.8762 - mae: 3.8762\n",
            "Epoch 35/100\n",
            "1/1 [==============================] - 0s 13ms/step - loss: 3.8886 - mae: 3.8886\n",
            "Epoch 36/100\n",
            "1/1 [==============================] - 0s 13ms/step - loss: 3.8840 - mae: 3.8840\n",
            "Epoch 37/100\n",
            "1/1 [==============================] - 0s 11ms/step - loss: 3.8646 - mae: 3.8646\n",
            "Epoch 38/100\n",
            "1/1 [==============================] - 0s 13ms/step - loss: 3.8984 - mae: 3.8984\n",
            "Epoch 39/100\n",
            "1/1 [==============================] - 0s 11ms/step - loss: 3.8426 - mae: 3.8426\n",
            "Epoch 40/100\n",
            "1/1 [==============================] - 0s 12ms/step - loss: 3.9064 - mae: 3.9064\n",
            "Epoch 41/100\n",
            "1/1 [==============================] - 0s 23ms/step - loss: 3.8392 - mae: 3.8392\n",
            "Epoch 42/100\n",
            "1/1 [==============================] - 0s 13ms/step - loss: 3.8907 - mae: 3.8907\n",
            "Epoch 43/100\n",
            "1/1 [==============================] - 0s 15ms/step - loss: 3.8471 - mae: 3.8471\n",
            "Epoch 44/100\n",
            "1/1 [==============================] - 0s 11ms/step - loss: 3.8648 - mae: 3.8648\n",
            "Epoch 45/100\n",
            "1/1 [==============================] - 0s 12ms/step - loss: 3.8552 - mae: 3.8552\n",
            "Epoch 46/100\n",
            "1/1 [==============================] - 0s 12ms/step - loss: 3.8430 - mae: 3.8430\n",
            "Epoch 47/100\n",
            "1/1 [==============================] - 0s 11ms/step - loss: 3.8697 - mae: 3.8697\n",
            "Epoch 48/100\n",
            "1/1 [==============================] - 0s 11ms/step - loss: 3.8181 - mae: 3.8181\n",
            "Epoch 49/100\n",
            "1/1 [==============================] - 0s 13ms/step - loss: 3.8780 - mae: 3.8780\n",
            "Epoch 50/100\n",
            "1/1 [==============================] - 0s 13ms/step - loss: 3.8111 - mae: 3.8111\n",
            "Epoch 51/100\n",
            "1/1 [==============================] - 0s 14ms/step - loss: 3.8659 - mae: 3.8659\n",
            "Epoch 52/100\n",
            "1/1 [==============================] - 0s 12ms/step - loss: 3.8192 - mae: 3.8192\n",
            "Epoch 53/100\n",
            "1/1 [==============================] - 0s 11ms/step - loss: 3.8396 - mae: 3.8396\n",
            "Epoch 54/100\n",
            "1/1 [==============================] - 0s 12ms/step - loss: 3.8279 - mae: 3.8279\n",
            "Epoch 55/100\n",
            "1/1 [==============================] - 0s 12ms/step - loss: 3.8190 - mae: 3.8190\n",
            "Epoch 56/100\n",
            "1/1 [==============================] - 0s 12ms/step - loss: 3.8422 - mae: 3.8422\n",
            "Epoch 57/100\n",
            "1/1 [==============================] - 0s 14ms/step - loss: 3.7924 - mae: 3.7924\n",
            "Epoch 58/100\n",
            "1/1 [==============================] - 0s 13ms/step - loss: 3.8506 - mae: 3.8506\n",
            "Epoch 59/100\n",
            "1/1 [==============================] - 0s 13ms/step - loss: 3.7841 - mae: 3.7841\n",
            "Epoch 60/100\n",
            "1/1 [==============================] - 0s 13ms/step - loss: 3.8398 - mae: 3.8398\n",
            "Epoch 61/100\n",
            "1/1 [==============================] - 0s 16ms/step - loss: 3.7924 - mae: 3.7924\n",
            "Epoch 62/100\n",
            "1/1 [==============================] - 0s 12ms/step - loss: 3.8132 - mae: 3.8132\n",
            "Epoch 63/100\n",
            "1/1 [==============================] - 0s 12ms/step - loss: 3.8035 - mae: 3.8035\n",
            "Epoch 64/100\n",
            "1/1 [==============================] - 0s 12ms/step - loss: 3.7923 - mae: 3.7923\n",
            "Epoch 65/100\n",
            "1/1 [==============================] - 0s 12ms/step - loss: 3.8157 - mae: 3.8157\n",
            "Epoch 66/100\n",
            "1/1 [==============================] - 0s 12ms/step - loss: 3.7654 - mae: 3.7654\n",
            "Epoch 67/100\n",
            "1/1 [==============================] - 0s 12ms/step - loss: 3.8243 - mae: 3.8243\n",
            "Epoch 68/100\n",
            "1/1 [==============================] - 0s 12ms/step - loss: 3.7581 - mae: 3.7581\n",
            "Epoch 69/100\n",
            "1/1 [==============================] - 0s 11ms/step - loss: 3.8123 - mae: 3.8123\n",
            "Epoch 70/100\n",
            "1/1 [==============================] - 0s 12ms/step - loss: 3.7666 - mae: 3.7666\n",
            "Epoch 71/100\n",
            "1/1 [==============================] - 0s 12ms/step - loss: 3.7855 - mae: 3.7855\n",
            "Epoch 72/100\n",
            "1/1 [==============================] - 0s 12ms/step - loss: 3.7800 - mae: 3.7800\n",
            "Epoch 73/100\n",
            "1/1 [==============================] - 0s 12ms/step - loss: 3.7642 - mae: 3.7642\n",
            "Epoch 74/100\n",
            "1/1 [==============================] - 0s 12ms/step - loss: 3.7903 - mae: 3.7903\n",
            "Epoch 75/100\n",
            "1/1 [==============================] - 0s 12ms/step - loss: 3.7370 - mae: 3.7370\n",
            "Epoch 76/100\n",
            "1/1 [==============================] - 0s 12ms/step - loss: 3.7991 - mae: 3.7991\n",
            "Epoch 77/100\n",
            "1/1 [==============================] - 0s 12ms/step - loss: 3.7332 - mae: 3.7332\n",
            "Epoch 78/100\n",
            "1/1 [==============================] - 0s 12ms/step - loss: 3.7836 - mae: 3.7836\n",
            "Epoch 79/100\n",
            "1/1 [==============================] - 0s 13ms/step - loss: 3.7419 - mae: 3.7419\n",
            "Epoch 80/100\n",
            "1/1 [==============================] - 0s 12ms/step - loss: 3.7575 - mae: 3.7575\n",
            "Epoch 81/100\n",
            "1/1 [==============================] - 0s 12ms/step - loss: 3.7570 - mae: 3.7570\n",
            "Epoch 82/100\n",
            "1/1 [==============================] - 0s 12ms/step - loss: 3.7348 - mae: 3.7348\n",
            "Epoch 83/100\n",
            "1/1 [==============================] - 0s 12ms/step - loss: 3.7659 - mae: 3.7659\n",
            "Epoch 84/100\n",
            "1/1 [==============================] - 0s 12ms/step - loss: 3.7073 - mae: 3.7073\n",
            "Epoch 85/100\n",
            "1/1 [==============================] - 0s 12ms/step - loss: 3.7750 - mae: 3.7750\n",
            "Epoch 86/100\n",
            "1/1 [==============================] - 0s 12ms/step - loss: 3.7092 - mae: 3.7092\n",
            "Epoch 87/100\n",
            "1/1 [==============================] - 0s 12ms/step - loss: 3.7536 - mae: 3.7536\n",
            "Epoch 88/100\n",
            "1/1 [==============================] - 0s 14ms/step - loss: 3.7181 - mae: 3.7181\n",
            "Epoch 89/100\n",
            "1/1 [==============================] - 0s 14ms/step - loss: 3.7290 - mae: 3.7290\n",
            "Epoch 90/100\n",
            "1/1 [==============================] - 0s 14ms/step - loss: 3.7335 - mae: 3.7335\n",
            "Epoch 91/100\n",
            "1/1 [==============================] - 0s 14ms/step - loss: 3.7041 - mae: 3.7041\n",
            "Epoch 92/100\n",
            "1/1 [==============================] - 0s 15ms/step - loss: 3.7426 - mae: 3.7426\n",
            "Epoch 93/100\n",
            "1/1 [==============================] - 0s 16ms/step - loss: 3.6773 - mae: 3.6773\n",
            "Epoch 94/100\n",
            "1/1 [==============================] - 0s 15ms/step - loss: 3.7498 - mae: 3.7498\n",
            "Epoch 95/100\n",
            "1/1 [==============================] - 0s 15ms/step - loss: 3.6863 - mae: 3.6863\n",
            "Epoch 96/100\n",
            "1/1 [==============================] - 0s 18ms/step - loss: 3.7222 - mae: 3.7222\n",
            "Epoch 97/100\n",
            "1/1 [==============================] - 0s 18ms/step - loss: 3.6954 - mae: 3.6954\n",
            "Epoch 98/100\n",
            "1/1 [==============================] - 0s 16ms/step - loss: 3.6990 - mae: 3.6990\n",
            "Epoch 99/100\n",
            "1/1 [==============================] - 0s 19ms/step - loss: 3.7109 - mae: 3.7109\n",
            "Epoch 100/100\n",
            "1/1 [==============================] - 0s 15ms/step - loss: 3.6720 - mae: 3.6720\n"
          ]
        },
        {
          "output_type": "execute_result",
          "data": {
            "text/plain": [
              "<keras.callbacks.History at 0x7c78f4090460>"
            ]
          },
          "metadata": {},
          "execution_count": 24
        }
      ]
    },
    {
      "cell_type": "code",
      "source": [
        "model.predict([17.])"
      ],
      "metadata": {
        "colab": {
          "base_uri": "https://localhost:8080/"
        },
        "id": "mqP3bm84eNoO",
        "outputId": "e4bca7af-c83e-428c-a602-088bb690e764"
      },
      "execution_count": null,
      "outputs": [
        {
          "output_type": "stream",
          "name": "stdout",
          "text": [
            "1/1 [==============================] - 0s 129ms/step\n"
          ]
        },
        {
          "output_type": "execute_result",
          "data": {
            "text/plain": [
              "array([[32.83001]], dtype=float32)"
            ]
          },
          "metadata": {},
          "execution_count": 25
        }
      ]
    },
    {
      "cell_type": "markdown",
      "source": [
        "#evaluating performance\n"
      ],
      "metadata": {
        "id": "LgIPLZfHgd9l"
      }
    },
    {
      "cell_type": "code",
      "source": [
        "#make bigger dataset\n",
        "X = tf.range(-100, 100, 4)\n",
        "X"
      ],
      "metadata": {
        "colab": {
          "base_uri": "https://localhost:8080/"
        },
        "id": "mpIaJJlJgipF",
        "outputId": "c97298e7-8799-472c-9c02-3cfb3252dbe6"
      },
      "execution_count": null,
      "outputs": [
        {
          "output_type": "execute_result",
          "data": {
            "text/plain": [
              "<tf.Tensor: shape=(50,), dtype=int32, numpy=\n",
              "array([-100,  -96,  -92,  -88,  -84,  -80,  -76,  -72,  -68,  -64,  -60,\n",
              "        -56,  -52,  -48,  -44,  -40,  -36,  -32,  -28,  -24,  -20,  -16,\n",
              "        -12,   -8,   -4,    0,    4,    8,   12,   16,   20,   24,   28,\n",
              "         32,   36,   40,   44,   48,   52,   56,   60,   64,   68,   72,\n",
              "         76,   80,   84,   88,   92,   96], dtype=int32)>"
            ]
          },
          "metadata": {},
          "execution_count": 27
        }
      ]
    },
    {
      "cell_type": "code",
      "source": [
        "y = X +10\n",
        "y"
      ],
      "metadata": {
        "colab": {
          "base_uri": "https://localhost:8080/"
        },
        "id": "oK3BbRtthxQ3",
        "outputId": "4dd83d4a-4e8e-4548-a58d-d8a23d241c1d"
      },
      "execution_count": null,
      "outputs": [
        {
          "output_type": "execute_result",
          "data": {
            "text/plain": [
              "<tf.Tensor: shape=(50,), dtype=int32, numpy=\n",
              "array([-90, -86, -82, -78, -74, -70, -66, -62, -58, -54, -50, -46, -42,\n",
              "       -38, -34, -30, -26, -22, -18, -14, -10,  -6,  -2,   2,   6,  10,\n",
              "        14,  18,  22,  26,  30,  34,  38,  42,  46,  50,  54,  58,  62,\n",
              "        66,  70,  74,  78,  82,  86,  90,  94,  98, 102, 106], dtype=int32)>"
            ]
          },
          "metadata": {},
          "execution_count": 28
        }
      ]
    },
    {
      "cell_type": "code",
      "source": [
        "#visualise\n",
        "plt.scatter(X,y)"
      ],
      "metadata": {
        "colab": {
          "base_uri": "https://localhost:8080/",
          "height": 447
        },
        "id": "VYJ7YJk4h67U",
        "outputId": "dbbb7cfa-3413-42ef-ca04-7a190b22bceb"
      },
      "execution_count": null,
      "outputs": [
        {
          "output_type": "execute_result",
          "data": {
            "text/plain": [
              "<matplotlib.collections.PathCollection at 0x7c78f4473be0>"
            ]
          },
          "metadata": {},
          "execution_count": 29
        },
        {
          "output_type": "display_data",
          "data": {
            "text/plain": [
              "<Figure size 640x480 with 1 Axes>"
            ],
            "image/png": "[encoded data removed]"
          },
          "metadata": {}
        }
      ]
    },
    {
      "cell_type": "code",
      "source": [
        "len(X)"
      ],
      "metadata": {
        "colab": {
          "base_uri": "https://localhost:8080/"
        },
        "id": "h7iJhRs7iC9f",
        "outputId": "8315fc55-44f9-4dd3-aea9-22dbe1164751"
      },
      "execution_count": null,
      "outputs": [
        {
          "output_type": "execute_result",
          "data": {
            "text/plain": [
              "50"
            ]
          },
          "metadata": {},
          "execution_count": 30
        }
      ]
    },
    {
      "cell_type": "code",
      "source": [
        "X_train = X[:40]\n",
        "y_train = y[:40]\n",
        "\n",
        "X_test = X[40:]\n",
        "y_test = y[40:]"
      ],
      "metadata": {
        "id": "FDAoUCZ3uQQ_"
      },
      "execution_count": null,
      "outputs": []
    },
    {
      "cell_type": "code",
      "source": [
        "plt.figure(figsize=(10,7))\n",
        "plt.scatter(X_train, y_train, c=\"b\", label=\"Training data\")\n",
        "plt.scatter(X_test, y_test, c=\"g\", label=\"Test data\")\n",
        "plt.legend();"
      ],
      "metadata": {
        "colab": {
          "base_uri": "https://localhost:8080/",
          "height": 476
        },
        "id": "y3RDyms0uyLi",
        "outputId": "6fa965eb-2836-40fa-8788-526e28391bc2"
      },
      "execution_count": null,
      "outputs": [
        {
          "output_type": "display_data",
          "data": {
            "text/plain": [
              "<Figure size 1000x700 with 1 Axes>"
            ],
            "image/png": "[encoded data removed]"
          },
          "metadata": {}
        }
      ]
    },
    {
      "cell_type": "code",
      "source": [
        "#set random seed\n",
        "tf.random.set_seed(8)\n",
        "\n",
        "#1. create a model\n",
        "model = tf.keras.Sequential([tf.keras.layers.Dense(1)])\n",
        "\n",
        "#2. compile the model\n",
        "model.compile(loss=tf.keras.losses.mae,\n",
        "              optimizer=tf.keras.optimizers.SGD(),\n",
        "              metrics=[\"mae\"])\n",
        "\n",
        "#3 fit model\n",
        "model.fit(tf.expand_dims(X_train, axis=1), y_train, epochs=100)"
      ],
      "metadata": {
        "colab": {
          "base_uri": "https://localhost:8080/"
        },
        "id": "u5ZjTxk_v0Fj",
        "outputId": "11f686bc-3be6-467a-cbc4-d0995a7e226c"
      },
      "execution_count": null,
      "outputs": [
        {
          "output_type": "stream",
          "name": "stdout",
          "text": [
            "Epoch 1/100\n",
            "2/2 [==============================] - 0s 16ms/step - loss: 13.2894 - mae: 13.2894\n",
            "Epoch 2/100\n",
            "2/2 [==============================] - 0s 11ms/step - loss: 18.0069 - mae: 18.0069\n",
            "Epoch 3/100\n",
            "2/2 [==============================] - 0s 13ms/step - loss: 9.2592 - mae: 9.2592\n",
            "Epoch 4/100\n",
            "2/2 [==============================] - 0s 15ms/step - loss: 8.9523 - mae: 8.9523\n",
            "Epoch 5/100\n",
            "2/2 [==============================] - 0s 8ms/step - loss: 9.9581 - mae: 9.9581\n",
            "Epoch 6/100\n",
            "2/2 [==============================] - 0s 10ms/step - loss: 9.7139 - mae: 9.7139\n",
            "Epoch 7/100\n",
            "2/2 [==============================] - 0s 8ms/step - loss: 13.9761 - mae: 13.9761\n",
            "Epoch 8/100\n",
            "2/2 [==============================] - 0s 9ms/step - loss: 12.6091 - mae: 12.6091\n",
            "Epoch 9/100\n",
            "2/2 [==============================] - 0s 8ms/step - loss: 10.0881 - mae: 10.0881\n",
            "Epoch 10/100\n",
            "2/2 [==============================] - 0s 7ms/step - loss: 12.7381 - mae: 12.7381\n",
            "Epoch 11/100\n",
            "2/2 [==============================] - 0s 9ms/step - loss: 11.5358 - mae: 11.5358\n",
            "Epoch 12/100\n",
            "2/2 [==============================] - 0s 9ms/step - loss: 7.9670 - mae: 7.9670\n",
            "Epoch 13/100\n",
            "2/2 [==============================] - 0s 8ms/step - loss: 9.7278 - mae: 9.7278\n",
            "Epoch 14/100\n",
            "2/2 [==============================] - 0s 9ms/step - loss: 11.4574 - mae: 11.4574\n",
            "Epoch 15/100\n",
            "2/2 [==============================] - 0s 9ms/step - loss: 11.2101 - mae: 11.2101\n",
            "Epoch 16/100\n",
            "2/2 [==============================] - 0s 9ms/step - loss: 8.3692 - mae: 8.3692\n",
            "Epoch 17/100\n",
            "2/2 [==============================] - 0s 7ms/step - loss: 8.4014 - mae: 8.4014\n",
            "Epoch 18/100\n",
            "2/2 [==============================] - 0s 7ms/step - loss: 14.2323 - mae: 14.2323\n",
            "Epoch 19/100\n",
            "2/2 [==============================] - 0s 8ms/step - loss: 9.4056 - mae: 9.4056\n",
            "Epoch 20/100\n",
            "2/2 [==============================] - 0s 12ms/step - loss: 10.4596 - mae: 10.4596\n",
            "Epoch 21/100\n",
            "2/2 [==============================] - 0s 11ms/step - loss: 7.6270 - mae: 7.6270\n",
            "Epoch 22/100\n",
            "2/2 [==============================] - 0s 8ms/step - loss: 8.2069 - mae: 8.2069\n",
            "Epoch 23/100\n",
            "2/2 [==============================] - 0s 9ms/step - loss: 17.7939 - mae: 17.7939\n",
            "Epoch 24/100\n",
            "2/2 [==============================] - 0s 9ms/step - loss: 9.1827 - mae: 9.1827\n",
            "Epoch 25/100\n",
            "2/2 [==============================] - 0s 8ms/step - loss: 12.5721 - mae: 12.5721\n",
            "Epoch 26/100\n",
            "2/2 [==============================] - 0s 7ms/step - loss: 12.6797 - mae: 12.6797\n",
            "Epoch 27/100\n",
            "2/2 [==============================] - 0s 8ms/step - loss: 12.3576 - mae: 12.3576\n",
            "Epoch 28/100\n",
            "2/2 [==============================] - 0s 7ms/step - loss: 7.3667 - mae: 7.3667\n",
            "Epoch 29/100\n",
            "2/2 [==============================] - 0s 8ms/step - loss: 14.9349 - mae: 14.9349\n",
            "Epoch 30/100\n",
            "2/2 [==============================] - 0s 8ms/step - loss: 8.3678 - mae: 8.3678\n",
            "Epoch 31/100\n",
            "2/2 [==============================] - 0s 9ms/step - loss: 11.2567 - mae: 11.2567\n",
            "Epoch 32/100\n",
            "2/2 [==============================] - 0s 9ms/step - loss: 11.5911 - mae: 11.5911\n",
            "Epoch 33/100\n",
            "2/2 [==============================] - 0s 9ms/step - loss: 14.8381 - mae: 14.8381\n",
            "Epoch 34/100\n",
            "2/2 [==============================] - 0s 10ms/step - loss: 11.1483 - mae: 11.1483\n",
            "Epoch 35/100\n",
            "2/2 [==============================] - 0s 10ms/step - loss: 15.7448 - mae: 15.7448\n",
            "Epoch 36/100\n",
            "2/2 [==============================] - 0s 8ms/step - loss: 7.3134 - mae: 7.3134\n",
            "Epoch 37/100\n",
            "2/2 [==============================] - 0s 9ms/step - loss: 9.6460 - mae: 9.6460\n",
            "Epoch 38/100\n",
            "2/2 [==============================] - 0s 8ms/step - loss: 12.4630 - mae: 12.4630\n",
            "Epoch 39/100\n",
            "2/2 [==============================] - 0s 10ms/step - loss: 11.0016 - mae: 11.0016\n",
            "Epoch 40/100\n",
            "2/2 [==============================] - 0s 9ms/step - loss: 7.6160 - mae: 7.6160\n",
            "Epoch 41/100\n",
            "2/2 [==============================] - 0s 8ms/step - loss: 11.9501 - mae: 11.9501\n",
            "Epoch 42/100\n",
            "2/2 [==============================] - 0s 7ms/step - loss: 8.4423 - mae: 8.4423\n",
            "Epoch 43/100\n",
            "2/2 [==============================] - 0s 8ms/step - loss: 7.2372 - mae: 7.2372\n",
            "Epoch 44/100\n",
            "2/2 [==============================] - 0s 13ms/step - loss: 10.7709 - mae: 10.7709\n",
            "Epoch 45/100\n",
            "2/2 [==============================] - 0s 11ms/step - loss: 10.2830 - mae: 10.2830\n",
            "Epoch 46/100\n",
            "2/2 [==============================] - 0s 10ms/step - loss: 15.6022 - mae: 15.6022\n",
            "Epoch 47/100\n",
            "2/2 [==============================] - 0s 9ms/step - loss: 14.5241 - mae: 14.5241\n",
            "Epoch 48/100\n",
            "2/2 [==============================] - 0s 13ms/step - loss: 10.9587 - mae: 10.9587\n",
            "Epoch 49/100\n",
            "2/2 [==============================] - 0s 11ms/step - loss: 14.2464 - mae: 14.2464\n",
            "Epoch 50/100\n",
            "2/2 [==============================] - 0s 9ms/step - loss: 10.2121 - mae: 10.2121\n",
            "Epoch 51/100\n",
            "2/2 [==============================] - 0s 9ms/step - loss: 9.0929 - mae: 9.0929\n",
            "Epoch 52/100\n",
            "2/2 [==============================] - 0s 10ms/step - loss: 8.6303 - mae: 8.6303\n",
            "Epoch 53/100\n",
            "2/2 [==============================] - 0s 13ms/step - loss: 7.4619 - mae: 7.4619\n",
            "Epoch 54/100\n",
            "2/2 [==============================] - 0s 10ms/step - loss: 8.2593 - mae: 8.2593\n",
            "Epoch 55/100\n",
            "2/2 [==============================] - 0s 9ms/step - loss: 8.6961 - mae: 8.6961\n",
            "Epoch 56/100\n",
            "2/2 [==============================] - 0s 9ms/step - loss: 10.5455 - mae: 10.5455\n",
            "Epoch 57/100\n",
            "2/2 [==============================] - 0s 9ms/step - loss: 6.9761 - mae: 6.9761\n",
            "Epoch 58/100\n",
            "2/2 [==============================] - 0s 9ms/step - loss: 8.7025 - mae: 8.7025\n",
            "Epoch 59/100\n",
            "2/2 [==============================] - 0s 10ms/step - loss: 7.9949 - mae: 7.9949\n",
            "Epoch 60/100\n",
            "2/2 [==============================] - 0s 9ms/step - loss: 14.1593 - mae: 14.1593\n",
            "Epoch 61/100\n",
            "2/2 [==============================] - 0s 9ms/step - loss: 15.9919 - mae: 15.9919\n",
            "Epoch 62/100\n",
            "2/2 [==============================] - 0s 8ms/step - loss: 10.6639 - mae: 10.6639\n",
            "Epoch 63/100\n",
            "2/2 [==============================] - 0s 9ms/step - loss: 7.5050 - mae: 7.5050\n",
            "Epoch 64/100\n",
            "2/2 [==============================] - 0s 7ms/step - loss: 10.0124 - mae: 10.0124\n",
            "Epoch 65/100\n",
            "2/2 [==============================] - 0s 8ms/step - loss: 12.3450 - mae: 12.3450\n",
            "Epoch 66/100\n",
            "2/2 [==============================] - 0s 8ms/step - loss: 13.7459 - mae: 13.7459\n",
            "Epoch 67/100\n",
            "2/2 [==============================] - 0s 9ms/step - loss: 10.6266 - mae: 10.6266\n",
            "Epoch 68/100\n",
            "2/2 [==============================] - 0s 8ms/step - loss: 9.1201 - mae: 9.1201\n",
            "Epoch 69/100\n",
            "2/2 [==============================] - 0s 8ms/step - loss: 9.7167 - mae: 9.7167\n",
            "Epoch 70/100\n",
            "2/2 [==============================] - 0s 9ms/step - loss: 8.5155 - mae: 8.5155\n",
            "Epoch 71/100\n",
            "2/2 [==============================] - 0s 9ms/step - loss: 12.0918 - mae: 12.0918\n",
            "Epoch 72/100\n",
            "2/2 [==============================] - 0s 8ms/step - loss: 15.8225 - mae: 15.8225\n",
            "Epoch 73/100\n",
            "2/2 [==============================] - 0s 9ms/step - loss: 10.1258 - mae: 10.1258\n",
            "Epoch 74/100\n",
            "2/2 [==============================] - 0s 9ms/step - loss: 9.0782 - mae: 9.0782\n",
            "Epoch 75/100\n",
            "2/2 [==============================] - 0s 9ms/step - loss: 8.8418 - mae: 8.8418\n",
            "Epoch 76/100\n",
            "2/2 [==============================] - 0s 9ms/step - loss: 11.0086 - mae: 11.0086\n",
            "Epoch 77/100\n",
            "2/2 [==============================] - 0s 9ms/step - loss: 10.5279 - mae: 10.5279\n",
            "Epoch 78/100\n",
            "2/2 [==============================] - 0s 10ms/step - loss: 8.8239 - mae: 8.8239\n",
            "Epoch 79/100\n",
            "2/2 [==============================] - 0s 9ms/step - loss: 7.1278 - mae: 7.1278\n",
            "Epoch 80/100\n",
            "2/2 [==============================] - 0s 9ms/step - loss: 11.8025 - mae: 11.8025\n",
            "Epoch 81/100\n",
            "2/2 [==============================] - 0s 10ms/step - loss: 7.1361 - mae: 7.1361\n",
            "Epoch 82/100\n",
            "2/2 [==============================] - 0s 9ms/step - loss: 9.0542 - mae: 9.0542\n",
            "Epoch 83/100\n",
            "2/2 [==============================] - 0s 9ms/step - loss: 14.0413 - mae: 14.0413\n",
            "Epoch 84/100\n",
            "2/2 [==============================] - 0s 8ms/step - loss: 7.6719 - mae: 7.6719\n",
            "Epoch 85/100\n",
            "2/2 [==============================] - 0s 9ms/step - loss: 8.6398 - mae: 8.6398\n",
            "Epoch 86/100\n",
            "2/2 [==============================] - 0s 9ms/step - loss: 9.9170 - mae: 9.9170\n",
            "Epoch 87/100\n",
            "2/2 [==============================] - 0s 15ms/step - loss: 11.6094 - mae: 11.6094\n",
            "Epoch 88/100\n",
            "2/2 [==============================] - 0s 10ms/step - loss: 15.0476 - mae: 15.0476\n",
            "Epoch 89/100\n",
            "2/2 [==============================] - 0s 8ms/step - loss: 17.4293 - mae: 17.4293\n",
            "Epoch 90/100\n",
            "2/2 [==============================] - 0s 10ms/step - loss: 7.1167 - mae: 7.1167\n",
            "Epoch 91/100\n",
            "2/2 [==============================] - 0s 8ms/step - loss: 9.2560 - mae: 9.2560\n",
            "Epoch 92/100\n",
            "2/2 [==============================] - 0s 9ms/step - loss: 15.4320 - mae: 15.4320\n",
            "Epoch 93/100\n",
            "2/2 [==============================] - 0s 10ms/step - loss: 18.1599 - mae: 18.1599\n",
            "Epoch 94/100\n",
            "2/2 [==============================] - 0s 12ms/step - loss: 9.4757 - mae: 9.4757\n",
            "Epoch 95/100\n",
            "2/2 [==============================] - 0s 13ms/step - loss: 7.9828 - mae: 7.9828\n",
            "Epoch 96/100\n",
            "2/2 [==============================] - 0s 10ms/step - loss: 10.3935 - mae: 10.3935\n",
            "Epoch 97/100\n",
            "2/2 [==============================] - 0s 8ms/step - loss: 12.2927 - mae: 12.2927\n",
            "Epoch 98/100\n",
            "2/2 [==============================] - 0s 8ms/step - loss: 9.0927 - mae: 9.0927\n",
            "Epoch 99/100\n",
            "2/2 [==============================] - 0s 8ms/step - loss: 10.8402 - mae: 10.8402\n",
            "Epoch 100/100\n",
            "2/2 [==============================] - 0s 9ms/step - loss: 8.5849 - mae: 8.5849\n"
          ]
        },
        {
          "output_type": "execute_result",
          "data": {
            "text/plain": [
              "<keras.callbacks.History at 0x7c78f44e70d0>"
            ]
          },
          "metadata": {},
          "execution_count": 33
        }
      ]
    },
    {
      "cell_type": "code",
      "source": [
        "model.summary()"
      ],
      "metadata": {
        "colab": {
          "base_uri": "https://localhost:8080/"
        },
        "id": "34jR7ggQwdqX",
        "outputId": "8088bb09-aeba-44a9-da03-fba881aadd93"
      },
      "execution_count": null,
      "outputs": [
        {
          "output_type": "stream",
          "name": "stdout",
          "text": [
            "Model: \"sequential_7\"\n",
            "_________________________________________________________________\n",
            " Layer (type)                Output Shape              Param #   \n",
            "=================================================================\n",
            " dense_8 (Dense)             (None, 1)                 2         \n",
            "                                                                 \n",
            "=================================================================\n",
            "Total params: 2\n",
            "Trainable params: 2\n",
            "Non-trainable params: 0\n",
            "_________________________________________________________________\n"
          ]
        }
      ]
    },
    {
      "cell_type": "code",
      "source": [],
      "metadata": {
        "id": "S37qakrEw7-R"
      },
      "execution_count": null,
      "outputs": []
    },
    {
      "cell_type": "code",
      "source": [
        "#set random seed\n",
        "tf.random.set_seed(8)\n",
        "\n",
        "#1. create a model\n",
        "model = tf.keras.Sequential([tf.keras.layers.Dense(1, input_shape=[1], name=\"output_layer\")])\n",
        "\n",
        "#2. compile the model\n",
        "model.compile(loss=tf.keras.losses.mae,\n",
        "              optimizer=tf.keras.optimizers.SGD(),\n",
        "              metrics=[\"mae\"])\n",
        "\n",
        "#3 fit model\n",
        "model.fit(tf.expand_dims(X_train, axis=1), y_train, epochs=100, verbose=0)"
      ],
      "metadata": {
        "colab": {
          "base_uri": "https://localhost:8080/"
        },
        "outputId": "dd57ab03-bd74-486b-f2c8-4fc44bf27739",
        "id": "1haqj-VExABD"
      },
      "execution_count": null,
      "outputs": [
        {
          "output_type": "execute_result",
          "data": {
            "text/plain": [
              "<keras.callbacks.History at 0x7c78e75bcd90>"
            ]
          },
          "metadata": {},
          "execution_count": 50
        }
      ]
    },
    {
      "cell_type": "code",
      "source": [
        "model.summary()"
      ],
      "metadata": {
        "colab": {
          "base_uri": "https://localhost:8080/"
        },
        "id": "D3i_KsGKxc_H",
        "outputId": "29b2d13f-d903-4ad9-efd3-0fd68943606d"
      },
      "execution_count": null,
      "outputs": [
        {
          "output_type": "stream",
          "name": "stdout",
          "text": [
            "Model: \"sequential_10\"\n",
            "_________________________________________________________________\n",
            " Layer (type)                Output Shape              Param #   \n",
            "=================================================================\n",
            " output_layer (Dense)        (None, 10)                20        \n",
            "                                                                 \n",
            "=================================================================\n",
            "Total params: 20\n",
            "Trainable params: 20\n",
            "Non-trainable params: 0\n",
            "_________________________________________________________________\n"
          ]
        }
      ]
    },
    {
      "cell_type": "code",
      "source": [
        "from tensorflow.keras.utils import plot_model\n",
        "plot_model(model=model, show_shapes=True)"
      ],
      "metadata": {
        "colab": {
          "base_uri": "https://localhost:8080/",
          "height": 201
        },
        "id": "eYzdpGANyAQn",
        "outputId": "7410962a-71dd-460a-fd1b-4dc726d8c115"
      },
      "execution_count": null,
      "outputs": [
        {
          "output_type": "execute_result",
          "data": {
            "image/png": "[encoded data removed]",
            "text/plain": [
              "<IPython.core.display.Image object>"
            ]
          },
          "metadata": {},
          "execution_count": 47
        }
      ]
    },
    {
      "cell_type": "markdown",
      "source": [
        "#visualizing predictions"
      ],
      "metadata": {
        "id": "dHJBeRpS3YPC"
      }
    },
    {
      "cell_type": "code",
      "source": [
        "y_pred = model.predict(X_test)\n",
        "y_pred"
      ],
      "metadata": {
        "colab": {
          "base_uri": "https://localhost:8080/"
        },
        "id": "JVd6T8Ap3dTe",
        "outputId": "70c08dfc-704c-454f-8db1-e7d45c95a8e0"
      },
      "execution_count": null,
      "outputs": [
        {
          "output_type": "stream",
          "name": "stdout",
          "text": [
            "1/1 [==============================] - 0s 61ms/step\n"
          ]
        },
        {
          "output_type": "execute_result",
          "data": {
            "text/plain": [
              "array([[ 64.684814],\n",
              "       [ 68.911804],\n",
              "       [ 73.138794],\n",
              "       [ 77.36578 ],\n",
              "       [ 81.592766],\n",
              "       [ 85.819756],\n",
              "       [ 90.046745],\n",
              "       [ 94.27373 ],\n",
              "       [ 98.50072 ],\n",
              "       [102.72771 ]], dtype=float32)"
            ]
          },
          "metadata": {},
          "execution_count": 52
        }
      ]
    },
    {
      "cell_type": "code",
      "source": [
        "y_test"
      ],
      "metadata": {
        "colab": {
          "base_uri": "https://localhost:8080/"
        },
        "id": "P4oy35qZ6450",
        "outputId": "8c48b78b-788d-463f-fff6-554d9bebab34"
      },
      "execution_count": null,
      "outputs": [
        {
          "output_type": "execute_result",
          "data": {
            "text/plain": [
              "<tf.Tensor: shape=(10,), dtype=int32, numpy=array([ 70,  74,  78,  82,  86,  90,  94,  98, 102, 106], dtype=int32)>"
            ]
          },
          "metadata": {},
          "execution_count": 53
        }
      ]
    },
    {
      "cell_type": "code",
      "source": [
        "def plot_predictions(train_data=X_train,\n",
        "                     train_labels=y_train,\n",
        "                     test_data=X_test,\n",
        "                     test_labels=y_test,\n",
        "                     predictions=y_pred):\n",
        "  plt.figure(figsize=(10,7))\n",
        "  plt.scatter(train_data, train_labels, c=\"b\", label=\"Training data\")\n",
        "  plt.scatter(test_data, test_labels, c=\"g\", label=\"Test data\")\n",
        "  plt.scatter(test_data, predictions, c=\"r\", label=\"Predictions\")\n",
        "  plt.legend();"
      ],
      "metadata": {
        "id": "RBF9E_E36_Bl"
      },
      "execution_count": null,
      "outputs": []
    },
    {
      "cell_type": "code",
      "source": [
        "plot_predictions()"
      ],
      "metadata": {
        "colab": {
          "base_uri": "https://localhost:8080/",
          "height": 476
        },
        "id": "Yw77OY2g8G26",
        "outputId": "f6283e58-f7cc-4d17-db9e-4b560e30fac5"
      },
      "execution_count": null,
      "outputs": [
        {
          "output_type": "display_data",
          "data": {
            "text/plain": [
              "<Figure size 1000x700 with 1 Axes>"
            ],
            "image/png": "[encoded data removed]"
          },
          "metadata": {}
        }
      ]
    },
    {
      "cell_type": "markdown",
      "source": [
        "#evaluation metrics"
      ],
      "metadata": {
        "id": "5DFD_HNo8Rg_"
      }
    },
    {
      "cell_type": "code",
      "source": [
        "model.evaluate(X_test, y_test)"
      ],
      "metadata": {
        "colab": {
          "base_uri": "https://localhost:8080/"
        },
        "id": "PK82bLJg8f-I",
        "outputId": "640cdfc1-81bc-4171-fd19-4dcda1ee1120"
      },
      "execution_count": null,
      "outputs": [
        {
          "output_type": "stream",
          "name": "stdout",
          "text": [
            "1/1 [==============================] - 0s 318ms/step - loss: 4.2937 - mae: 4.2937\n"
          ]
        },
        {
          "output_type": "execute_result",
          "data": {
            "text/plain": [
              "[4.29373836517334, 4.29373836517334]"
            ]
          },
          "metadata": {},
          "execution_count": 57
        }
      ]
    },
    {
      "cell_type": "code",
      "source": [
        "tf.reduce_sum(abs(tf.constant(tf.cast(y_pred, dtype=\"float32\"), shape=(10,))-tf.cast(y_test, dtype=\"float32\")))/len(y_pred)"
      ],
      "metadata": {
        "colab": {
          "base_uri": "https://localhost:8080/"
        },
        "id": "gRwukyOw-Mf7",
        "outputId": "ff728696-a730-4c42-b42f-3bea33085a84"
      },
      "execution_count": null,
      "outputs": [
        {
          "output_type": "execute_result",
          "data": {
            "text/plain": [
              "<tf.Tensor: shape=(), dtype=float32, numpy=4.2937384>"
            ]
          },
          "metadata": {},
          "execution_count": 90
        }
      ]
    },
    {
      "cell_type": "code",
      "source": [
        "tf.metrics.mean_absolute_error(tf.constant(tf.cast(y_pred, dtype=\"float32\"), shape=(10,)), tf.cast(y_test, dtype=\"float32\"))\n",
        "\n"
      ],
      "metadata": {
        "colab": {
          "base_uri": "https://localhost:8080/"
        },
        "id": "5qSaZM55-15s",
        "outputId": "9bee2589-8bb0-443e-b943-b4a86c19baac"
      },
      "execution_count": null,
      "outputs": [
        {
          "output_type": "execute_result",
          "data": {
            "text/plain": [
              "<tf.Tensor: shape=(), dtype=float32, numpy=4.2937384>"
            ]
          },
          "metadata": {},
          "execution_count": 91
        }
      ]
    },
    {
      "cell_type": "code",
      "source": [
        "tf.cast(y_pred, dtype=\"float32\")"
      ],
      "metadata": {
        "colab": {
          "base_uri": "https://localhost:8080/"
        },
        "id": "s6qDI1ITALfG",
        "outputId": "844d4948-b189-464f-ae46-c3f59337205e"
      },
      "execution_count": null,
      "outputs": [
        {
          "output_type": "execute_result",
          "data": {
            "text/plain": [
              "<tf.Tensor: shape=(10, 1), dtype=float32, numpy=\n",
              "array([[ 64.684814],\n",
              "       [ 68.911804],\n",
              "       [ 73.138794],\n",
              "       [ 77.36578 ],\n",
              "       [ 81.592766],\n",
              "       [ 85.819756],\n",
              "       [ 90.046745],\n",
              "       [ 94.27373 ],\n",
              "       [ 98.50072 ],\n",
              "       [102.72771 ]], dtype=float32)>"
            ]
          },
          "metadata": {},
          "execution_count": 82
        }
      ]
    },
    {
      "cell_type": "code",
      "source": [
        "tf.constant(tf.cast(y_pred, dtype=\"float32\"), shape=(10,1))"
      ],
      "metadata": {
        "colab": {
          "base_uri": "https://localhost:8080/"
        },
        "id": "NDGP4hHRBvO3",
        "outputId": "6b9e8357-6b1a-433a-89be-6f6c13b4d028"
      },
      "execution_count": null,
      "outputs": [
        {
          "output_type": "execute_result",
          "data": {
            "text/plain": [
              "<tf.Tensor: shape=(10, 1), dtype=float32, numpy=\n",
              "array([[ 64.684814],\n",
              "       [ 68.911804],\n",
              "       [ 73.138794],\n",
              "       [ 77.36578 ],\n",
              "       [ 81.592766],\n",
              "       [ 85.819756],\n",
              "       [ 90.046745],\n",
              "       [ 94.27373 ],\n",
              "       [ 98.50072 ],\n",
              "       [102.72771 ]], dtype=float32)>"
            ]
          },
          "metadata": {},
          "execution_count": 86
        }
      ]
    },
    {
      "cell_type": "code",
      "source": [
        "tf.metrics.mean_squared_error(tf.squeeze(y_pred), y_test)"
      ],
      "metadata": {
        "colab": {
          "base_uri": "https://localhost:8080/"
        },
        "id": "2W26AQn1CsIa",
        "outputId": "c569d96b-1c0d-4c00-9de2-aa67ac66d638"
      },
      "execution_count": null,
      "outputs": [
        {
          "output_type": "execute_result",
          "data": {
            "text/plain": [
              "<tf.Tensor: shape=(), dtype=int32, numpy=23>"
            ]
          },
          "metadata": {},
          "execution_count": 95
        }
      ]
    },
    {
      "cell_type": "code",
      "source": [
        "tf.metrics.mean_absolute_error(tf.squeeze(y_pred), y_test)"
      ],
      "metadata": {
        "colab": {
          "base_uri": "https://localhost:8080/"
        },
        "id": "y9Pu1P4uC2Nn",
        "outputId": "964d0b0e-4860-4c7a-f848-4bdc2cd77e37"
      },
      "execution_count": null,
      "outputs": [
        {
          "output_type": "execute_result",
          "data": {
            "text/plain": [
              "<tf.Tensor: shape=(), dtype=int32, numpy=4>"
            ]
          },
          "metadata": {},
          "execution_count": 96
        }
      ]
    },
    {
      "cell_type": "code",
      "source": [
        "def mae(y_true, y_pred):\n",
        "  return tf.metrics.mean_absolute_error(y_true, tf.squeeze(y_pred))\n",
        "\n",
        "def mse(y_true, y_pred):\n",
        "  return tf.metrics.mean_squared_error(y_true, tf.squeeze(y_pred))"
      ],
      "metadata": {
        "id": "trlCYkk7Did1"
      },
      "execution_count": null,
      "outputs": []
    },
    {
      "cell_type": "code",
      "source": [
        "#set random seed\n",
        "tf.random.set_seed(8)\n",
        "\n",
        "#1. create a model\n",
        "model_1 = tf.keras.Sequential([tf.keras.layers.Dense(1, input_shape=[1], name=\"output_layer\")])\n",
        "\n",
        "#2. compile the model\n",
        "model_1.compile(loss=tf.keras.losses.mae,\n",
        "              optimizer=tf.keras.optimizers.SGD(),\n",
        "              metrics=[\"mae\"])\n",
        "\n",
        "#3 fit model\n",
        "model_1.fit(tf.expand_dims(X_train, axis=1), y_train, epochs=100, verbose=0)"
      ],
      "metadata": {
        "colab": {
          "base_uri": "https://localhost:8080/"
        },
        "id": "_MWIF1VVEc3k",
        "outputId": "d54545bc-eea4-43b8-94a7-5c0d40c26b28"
      },
      "execution_count": null,
      "outputs": [
        {
          "output_type": "execute_result",
          "data": {
            "text/plain": [
              "<keras.callbacks.History at 0x7c78e75f03a0>"
            ]
          },
          "metadata": {},
          "execution_count": 98
        }
      ]
    },
    {
      "cell_type": "code",
      "source": [
        "y_preds_1 = model_1.predict(X_test)\n",
        "plot_predictions(predictions=y_preds_1)"
      ],
      "metadata": {
        "colab": {
          "base_uri": "https://localhost:8080/",
          "height": 494
        },
        "id": "kp2PU6IuFtZY",
        "outputId": "940e0bc6-14af-438a-b45b-8cfa407bd4d2"
      },
      "execution_count": null,
      "outputs": [
        {
          "output_type": "stream",
          "name": "stdout",
          "text": [
            "1/1 [==============================] - 0s 57ms/step\n"
          ]
        },
        {
          "output_type": "display_data",
          "data": {
            "text/plain": [
              "<Figure size 1000x700 with 1 Axes>"
            ],
            "image/png": "[encoded data removed]"
          },
          "metadata": {}
        }
      ]
    },
    {
      "cell_type": "code",
      "source": [
        "mae_1 = mae(y_test, y_preds_1)\n",
        "mse_1 = mse(y_test, y_preds_1)\n",
        "\n",
        "mae_1, mse_1"
      ],
      "metadata": {
        "colab": {
          "base_uri": "https://localhost:8080/"
        },
        "id": "7pN1xNkjGKEB",
        "outputId": "d028fa43-3a3f-4b63-cf1b-44a9274e3a19"
      },
      "execution_count": null,
      "outputs": [
        {
          "output_type": "execute_result",
          "data": {
            "text/plain": [
              "(<tf.Tensor: shape=(), dtype=float32, numpy=2.6115937>,\n",
              " <tf.Tensor: shape=(), dtype=float32, numpy=7.6274824>)"
            ]
          },
          "metadata": {},
          "execution_count": 102
        }
      ]
    },
    {
      "cell_type": "code",
      "source": [
        "#set random seed\n",
        "tf.random.set_seed(8)\n",
        "\n",
        "#1. create a model\n",
        "model_2 = tf.keras.Sequential([tf.keras.layers.Dense(100, input_shape=[1]),\n",
        "    tf.keras.layers.Dense(1, name=\"output_layer\")])\n",
        "\n",
        "#2. compile the model\n",
        "model_2.compile(loss=tf.keras.losses.mae,\n",
        "              optimizer=tf.keras.optimizers.SGD(),\n",
        "              metrics=[\"mae\"])\n",
        "\n",
        "#3 fit model\n",
        "model_2.fit(tf.expand_dims(X_train, axis=1), y_train, epochs=100, verbose=0)"
      ],
      "metadata": {
        "colab": {
          "base_uri": "https://localhost:8080/"
        },
        "id": "MkC3uqdDG7Qs",
        "outputId": "f0098bac-a889-4456-9231-32c1c9b86271"
      },
      "execution_count": null,
      "outputs": [
        {
          "output_type": "execute_result",
          "data": {
            "text/plain": [
              "<keras.callbacks.History at 0x7c78f45153c0>"
            ]
          },
          "metadata": {},
          "execution_count": 103
        }
      ]
    },
    {
      "cell_type": "code",
      "source": [
        "y_preds_2 = model_2.predict(X_test)\n",
        "plot_predictions(predictions=y_preds_2)"
      ],
      "metadata": {
        "colab": {
          "base_uri": "https://localhost:8080/",
          "height": 494
        },
        "id": "--FJUBb5Hcu1",
        "outputId": "b6d7f3d4-d8be-48d4-e401-bfbaf161289a"
      },
      "execution_count": null,
      "outputs": [
        {
          "output_type": "stream",
          "name": "stdout",
          "text": [
            "1/1 [==============================] - 0s 238ms/step\n"
          ]
        },
        {
          "output_type": "display_data",
          "data": {
            "text/plain": [
              "<Figure size 1000x700 with 1 Axes>"
            ],
            "image/png": "[encoded data removed]"
          },
          "metadata": {}
        }
      ]
    },
    {
      "cell_type": "code",
      "source": [
        "mae_2 = mae(y_test, y_preds_2)\n",
        "mse_2 = mse(y_test, y_preds_2)\n",
        "\n",
        "mae_2, mse_2"
      ],
      "metadata": {
        "colab": {
          "base_uri": "https://localhost:8080/"
        },
        "id": "939SC8hWHjj_",
        "outputId": "680107a4-1bd9-419d-b263-690c4a766fdf"
      },
      "execution_count": null,
      "outputs": [
        {
          "output_type": "execute_result",
          "data": {
            "text/plain": [
              "(<tf.Tensor: shape=(), dtype=float32, numpy=1.1068306>,\n",
              " <tf.Tensor: shape=(), dtype=float32, numpy=1.7728345>)"
            ]
          },
          "metadata": {},
          "execution_count": 105
        }
      ]
    },
    {
      "cell_type": "code",
      "source": [
        "#set random seed\n",
        "tf.random.set_seed(8)\n",
        "\n",
        "#1. create a model\n",
        "model_3 = tf.keras.Sequential([tf.keras.layers.Dense(100, input_shape=[1]),\n",
        "    tf.keras.layers.Dense(1, name=\"output_layer\")])\n",
        "\n",
        "#2. compile the model\n",
        "model_3.compile(loss=tf.keras.losses.mae,\n",
        "              optimizer=tf.keras.optimizers.SGD(),\n",
        "              metrics=[\"mae\"])\n",
        "\n",
        "#3 fit model\n",
        "model_3.fit(tf.expand_dims(X_train, axis=1), y_train, epochs=500, verbose=0)\n",
        "\n",
        "#4. predictions\n",
        "y_preds_3 = model_3.predict(X_test)\n",
        "plot_predictions(predictions=y_preds_3)\n",
        "\n",
        "#evaluation metrics\n",
        "mae_3 = mae(y_test, y_preds_3)\n",
        "mse_3 = mse(y_test, y_preds_3)\n",
        "\n",
        "mae_3, mse_3"
      ],
      "metadata": {
        "colab": {
          "base_uri": "https://localhost:8080/",
          "height": 671
        },
        "id": "QDSx5bLPIUJg",
        "outputId": "5a60ec70-df22-4250-f19e-cec2423171ad"
      },
      "execution_count": null,
      "outputs": [
        {
          "output_type": "stream",
          "name": "stdout",
          "text": [
            "1/1 [==============================] - 0s 59ms/step\n"
          ]
        },
        {
          "output_type": "execute_result",
          "data": {
            "text/plain": [
              "(<tf.Tensor: shape=(), dtype=float32, numpy=16.892775>,\n",
              " <tf.Tensor: shape=(), dtype=float32, numpy=294.07452>)"
            ]
          },
          "metadata": {},
          "execution_count": 106
        },
        {
          "output_type": "display_data",
          "data": {
            "text/plain": [
              "<Figure size 1000x700 with 1 Axes>"
            ],
            "image/png": "[encoded data removed]"
          },
          "metadata": {}
        }
      ]
    },
    {
      "cell_type": "markdown",
      "source": [
        "#comparing the results of our experiments"
      ],
      "metadata": {
        "id": "GeKJ-RLjKGnZ"
      }
    },
    {
      "cell_type": "code",
      "source": [
        "import pandas as pd\n",
        "model_results = [[\"model_1\", mae_1.numpy(), mse_1.numpy()],\n",
        "                 [\"model_2\", mae_2.numpy(), mse_2.numpy()],\n",
        "                 [\"model_3\", mae_3.numpy(), mse_3.numpy()]\n",
        "                 ]\n",
        "all_results = pd.DataFrame(model_results, columns= [\"model\", \"mae\", \"mse\"])\n",
        "all_results"
      ],
      "metadata": {
        "colab": {
          "base_uri": "https://localhost:8080/",
          "height": 143
        },
        "id": "gHOkVUMqKKa1",
        "outputId": "f11aab9d-999f-41bd-a244-0308d41d4366"
      },
      "execution_count": null,
      "outputs": [
        {
          "output_type": "execute_result",
          "data": {
            "text/plain": [
              "     model        mae         mse\n",
              "0  model_1   2.611594    7.627482\n",
              "1  model_2   1.106831    1.772835\n",
              "2  model_3  16.892775  294.074524"
            ],
            "text/html": [
              "\n",
              "\n",
              "  <div id=\"df-0bec6ba5-019e-44e6-aa02-5b77162ed7d7\">\n",
              "    <div class=\"colab-df-container\">\n",
              "      <div>\n",
              "<style scoped>\n",
              "    .dataframe tbody tr th:only-of-type {\n",
              "        vertical-align: middle;\n",
              "    }\n",
              "\n",
              "    .dataframe tbody tr th {\n",
              "        vertical-align: top;\n",
              "    }\n",
              "\n",
              "    .dataframe thead th {\n",
              "        text-align: right;\n",
              "    }\n",
              "</style>\n",
              "<table border=\"1\" class=\"dataframe\">\n",
              "  <thead>\n",
              "    <tr style=\"text-align: right;\">\n",
              "      <th></th>\n",
              "      <th>model</th>\n",
              "      <th>mae</th>\n",
              "      <th>mse</th>\n",
              "    </tr>\n",
              "  </thead>\n",
              "  <tbody>\n",
              "    <tr>\n",
              "      <th>0</th>\n",
              "      <td>model_1</td>\n",
              "      <td>2.611594</td>\n",
              "      <td>7.627482</td>\n",
              "    </tr>\n",
              "    <tr>\n",
              "      <th>1</th>\n",
              "      <td>model_2</td>\n",
              "      <td>1.106831</td>\n",
              "      <td>1.772835</td>\n",
              "    </tr>\n",
              "    <tr>\n",
              "      <th>2</th>\n",
              "      <td>model_3</td>\n",
              "      <td>16.892775</td>\n",
              "      <td>294.074524</td>\n",
              "    </tr>\n",
              "  </tbody>\n",
              "</table>\n",
              "</div>\n",
              "      <button class=\"colab-df-convert\" onclick=\"convertToInteractive('df-0bec6ba5-019e-44e6-aa02-5b77162ed7d7')\"\n",
              "              title=\"Convert this dataframe to an interactive table.\"\n",
              "              style=\"display:none;\">\n",
              "\n",
              "  <svg xmlns=\"http://www.w3.org/2000/svg\" height=\"24px\"viewBox=\"0 0 24 24\"\n",
              "       width=\"24px\">\n",
              "    <path d=\"M0 0h24v24H0V0z\" fill=\"none\"/>\n",
              "    <path d=\"M18.56 5.44l.94 2.06.94-2.06 2.06-.94-2.06-.94-.94-2.06-.94 2.06-2.06.94zm-11 1L8.5 8.5l.94-2.06 2.06-.94-2.06-.94L8.5 2.5l-.94 2.06-2.06.94zm10 10l.94 2.06.94-2.06 2.06-.94-2.06-.94-.94-2.06-.94 2.06-2.06.94z\"/><path d=\"M17.41 7.96l-1.37-1.37c-.4-.4-.92-.59-1.43-.59-.52 0-1.04.2-1.43.59L10.3 9.45l-7.72 7.72c-.78.78-.78 2.05 0 2.83L4 21.41c.39.39.9.59 1.41.59.51 0 1.02-.2 1.41-.59l7.78-7.78 2.81-2.81c.8-.78.8-2.07 0-2.86zM5.41 20L4 18.59l7.72-7.72 1.47 1.35L5.41 20z\"/>\n",
              "  </svg>\n",
              "      </button>\n",
              "\n",
              "\n",
              "\n",
              "    <div id=\"df-b4c045df-597b-4e9b-8121-14d2d28e32d4\">\n",
              "      <button class=\"colab-df-quickchart\" onclick=\"quickchart('df-b4c045df-597b-4e9b-8121-14d2d28e32d4')\"\n",
              "              title=\"Suggest charts.\"\n",
              "              style=\"display:none;\">\n",
              "\n",
              "<svg xmlns=\"http://www.w3.org/2000/svg\" height=\"24px\"viewBox=\"0 0 24 24\"\n",
              "     width=\"24px\">\n",
              "    <g>\n",
              "        <path d=\"M19 3H5c-1.1 0-2 .9-2 2v14c0 1.1.9 2 2 2h14c1.1 0 2-.9 2-2V5c0-1.1-.9-2-2-2zM9 17H7v-7h2v7zm4 0h-2V7h2v10zm4 0h-2v-4h2v4z\"/>\n",
              "    </g>\n",
              "</svg>\n",
              "      </button>\n",
              "    </div>\n",
              "\n",
              "<style>\n",
              "  .colab-df-quickchart {\n",
              "    background-color: #E8F0FE;\n",
              "    border: none;\n",
              "    border-radius: 50%;\n",
              "    cursor: pointer;\n",
              "    display: none;\n",
              "    fill: #1967D2;\n",
              "    height: 32px;\n",
              "    padding: 0 0 0 0;\n",
              "    width: 32px;\n",
              "  }\n",
              "\n",
              "  .colab-df-quickchart:hover {\n",
              "    background-color: #E2EBFA;\n",
              "    box-shadow: 0px 1px 2px rgba(60, 64, 67, 0.3), 0px 1px 3px 1px rgba(60, 64, 67, 0.15);\n",
              "    fill: #174EA6;\n",
              "  }\n",
              "\n",
              "  [theme=dark] .colab-df-quickchart {\n",
              "    background-color: #3B4455;\n",
              "    fill: #D2E3FC;\n",
              "  }\n",
              "\n",
              "  [theme=dark] .colab-df-quickchart:hover {\n",
              "    background-color: #434B5C;\n",
              "    box-shadow: 0px 1px 3px 1px rgba(0, 0, 0, 0.15);\n",
              "    filter: drop-shadow(0px 1px 2px rgba(0, 0, 0, 0.3));\n",
              "    fill: #FFFFFF;\n",
              "  }\n",
              "</style>\n",
              "\n",
              "    <script>\n",
              "      async function quickchart(key) {\n",
              "        const containerElement = document.querySelector('#' + key);\n",
              "        const charts = await google.colab.kernel.invokeFunction(\n",
              "            'suggestCharts', [key], {});\n",
              "      }\n",
              "    </script>\n",
              "\n",
              "      <script>\n",
              "\n",
              "function displayQuickchartButton(domScope) {\n",
              "  let quickchartButtonEl =\n",
              "    domScope.querySelector('#df-b4c045df-597b-4e9b-8121-14d2d28e32d4 button.colab-df-quickchart');\n",
              "  quickchartButtonEl.style.display =\n",
              "    google.colab.kernel.accessAllowed ? 'block' : 'none';\n",
              "}\n",
              "\n",
              "        displayQuickchartButton(document);\n",
              "      </script>\n",
              "      <style>\n",
              "    .colab-df-container {\n",
              "      display:flex;\n",
              "      flex-wrap:wrap;\n",
              "      gap: 12px;\n",
              "    }\n",
              "\n",
              "    .colab-df-convert {\n",
              "      background-color: #E8F0FE;\n",
              "      border: none;\n",
              "      border-radius: 50%;\n",
              "      cursor: pointer;\n",
              "      display: none;\n",
              "      fill: #1967D2;\n",
              "      height: 32px;\n",
              "      padding: 0 0 0 0;\n",
              "      width: 32px;\n",
              "    }\n",
              "\n",
              "    .colab-df-convert:hover {\n",
              "      background-color: #E2EBFA;\n",
              "      box-shadow: 0px 1px 2px rgba(60, 64, 67, 0.3), 0px 1px 3px 1px rgba(60, 64, 67, 0.15);\n",
              "      fill: #174EA6;\n",
              "    }\n",
              "\n",
              "    [theme=dark] .colab-df-convert {\n",
              "      background-color: #3B4455;\n",
              "      fill: #D2E3FC;\n",
              "    }\n",
              "\n",
              "    [theme=dark] .colab-df-convert:hover {\n",
              "      background-color: #434B5C;\n",
              "      box-shadow: 0px 1px 3px 1px rgba(0, 0, 0, 0.15);\n",
              "      filter: drop-shadow(0px 1px 2px rgba(0, 0, 0, 0.3));\n",
              "      fill: #FFFFFF;\n",
              "    }\n",
              "  </style>\n",
              "\n",
              "      <script>\n",
              "        const buttonEl =\n",
              "          document.querySelector('#df-0bec6ba5-019e-44e6-aa02-5b77162ed7d7 button.colab-df-convert');\n",
              "        buttonEl.style.display =\n",
              "          google.colab.kernel.accessAllowed ? 'block' : 'none';\n",
              "\n",
              "        async function convertToInteractive(key) {\n",
              "          const element = document.querySelector('#df-0bec6ba5-019e-44e6-aa02-5b77162ed7d7');\n",
              "          const dataTable =\n",
              "            await google.colab.kernel.invokeFunction('convertToInteractive',\n",
              "                                                     [key], {});\n",
              "          if (!dataTable) return;\n",
              "\n",
              "          const docLinkHtml = 'Like what you see? Visit the ' +\n",
              "            '<a target=\"_blank\" href=https://colab.research.google.com/notebooks/data_table.ipynb>data table notebook</a>'\n",
              "            + ' to learn more about interactive tables.';\n",
              "          element.innerHTML = '';\n",
              "          dataTable['output_type'] = 'display_data';\n",
              "          await google.colab.output.renderOutput(dataTable, element);\n",
              "          const docLink = document.createElement('div');\n",
              "          docLink.innerHTML = docLinkHtml;\n",
              "          element.appendChild(docLink);\n",
              "        }\n",
              "      </script>\n",
              "    </div>\n",
              "  </div>\n"
            ]
          },
          "metadata": {},
          "execution_count": 108
        }
      ]
    },
    {
      "cell_type": "code",
      "source": [
        "model_2.summary()"
      ],
      "metadata": {
        "colab": {
          "base_uri": "https://localhost:8080/"
        },
        "id": "lAN-mU1ULr5p",
        "outputId": "317d67a1-db53-4326-c2e5-54ab7feb46c2"
      },
      "execution_count": null,
      "outputs": [
        {
          "output_type": "stream",
          "name": "stdout",
          "text": [
            "Model: \"sequential_13\"\n",
            "_________________________________________________________________\n",
            " Layer (type)                Output Shape              Param #   \n",
            "=================================================================\n",
            " dense_10 (Dense)            (None, 100)               200       \n",
            "                                                                 \n",
            " output_layer (Dense)        (None, 1)                 101       \n",
            "                                                                 \n",
            "=================================================================\n",
            "Total params: 301\n",
            "Trainable params: 301\n",
            "Non-trainable params: 0\n",
            "_________________________________________________________________\n"
          ]
        }
      ]
    },
    {
      "cell_type": "markdown",
      "source": [
        "#saving our models"
      ],
      "metadata": {
        "id": "4CfOZw-bM42F"
      }
    },
    {
      "cell_type": "code",
      "source": [
        "model_2.save(\"model_2_SM_format\")"
      ],
      "metadata": {
        "colab": {
          "base_uri": "https://localhost:8080/"
        },
        "id": "LdEuUCVXNo_y",
        "outputId": "45694227-0a86-4537-9001-d0ea45e3f414"
      },
      "execution_count": null,
      "outputs": [
        {
          "output_type": "stream",
          "name": "stderr",
          "text": [
            "WARNING:absl:Found untraced functions such as _update_step_xla while saving (showing 1 of 1). These functions will not be directly callable after loading.\n"
          ]
        }
      ]
    },
    {
      "cell_type": "code",
      "source": [
        "model_2.save(\"model_2.h5\")"
      ],
      "metadata": {
        "id": "j2V6l4woP6fP"
      },
      "execution_count": null,
      "outputs": []
    },
    {
      "cell_type": "markdown",
      "source": [
        "#loading in saved model"
      ],
      "metadata": {
        "id": "S0HWZ_1-QpCa"
      }
    },
    {
      "cell_type": "code",
      "source": [
        "loaded_SM_format = tf.keras.models.load_model(\"/content/model_2_SM_format\")\n",
        "loaded_SM_format.summary()"
      ],
      "metadata": {
        "colab": {
          "base_uri": "https://localhost:8080/"
        },
        "id": "B2LsXsLzajGQ",
        "outputId": "0207e483-600f-46df-ad38-1070fa193baa"
      },
      "execution_count": null,
      "outputs": [
        {
          "output_type": "stream",
          "name": "stdout",
          "text": [
            "Model: \"sequential_13\"\n",
            "_________________________________________________________________\n",
            " Layer (type)                Output Shape              Param #   \n",
            "=================================================================\n",
            " dense_10 (Dense)            (None, 100)               200       \n",
            "                                                                 \n",
            " output_layer (Dense)        (None, 1)                 101       \n",
            "                                                                 \n",
            "=================================================================\n",
            "Total params: 301\n",
            "Trainable params: 301\n",
            "Non-trainable params: 0\n",
            "_________________________________________________________________\n"
          ]
        }
      ]
    },
    {
      "cell_type": "code",
      "source": [
        "loaded_SM_format.predict(X_test) == model_2.predict(X_test)"
      ],
      "metadata": {
        "colab": {
          "base_uri": "https://localhost:8080/"
        },
        "id": "GgXi-Q6LbbL8",
        "outputId": "4cd861f3-5bff-4214-fce6-e35afcbbab57"
      },
      "execution_count": null,
      "outputs": [
        {
          "output_type": "stream",
          "name": "stdout",
          "text": [
            "1/1 [==============================] - 0s 85ms/step\n",
            "1/1 [==============================] - 0s 37ms/step\n"
          ]
        },
        {
          "output_type": "execute_result",
          "data": {
            "text/plain": [
              "array([[ True],\n",
              "       [ True],\n",
              "       [ True],\n",
              "       [ True],\n",
              "       [ True],\n",
              "       [ True],\n",
              "       [ True],\n",
              "       [ True],\n",
              "       [ True],\n",
              "       [ True]])"
            ]
          },
          "metadata": {},
          "execution_count": 113
        }
      ]
    },
    {
      "cell_type": "code",
      "source": [
        "loaded_h5_format = tf.keras.models.load_model(\"/content/model_2.h5\")\n",
        "loaded_h5_format.summary()"
      ],
      "metadata": {
        "colab": {
          "base_uri": "https://localhost:8080/"
        },
        "id": "WWJ8u-IScZ6O",
        "outputId": "810c69c7-b26f-4117-b931-bd74e1d35d35"
      },
      "execution_count": null,
      "outputs": [
        {
          "output_type": "stream",
          "name": "stdout",
          "text": [
            "Model: \"sequential_13\"\n",
            "_________________________________________________________________\n",
            " Layer (type)                Output Shape              Param #   \n",
            "=================================================================\n",
            " dense_10 (Dense)            (None, 100)               200       \n",
            "                                                                 \n",
            " output_layer (Dense)        (None, 1)                 101       \n",
            "                                                                 \n",
            "=================================================================\n",
            "Total params: 301\n",
            "Trainable params: 301\n",
            "Non-trainable params: 0\n",
            "_________________________________________________________________\n"
          ]
        }
      ]
    },
    {
      "cell_type": "code",
      "source": [
        "loaded_h5_format.predict(X_test) == model_2.predict(X_test)"
      ],
      "metadata": {
        "colab": {
          "base_uri": "https://localhost:8080/"
        },
        "id": "BCB5EUbTcmZ3",
        "outputId": "2be3d7b3-8099-4d62-aea2-0005cc8688bc"
      },
      "execution_count": null,
      "outputs": [
        {
          "output_type": "stream",
          "name": "stdout",
          "text": [
            "1/1 [==============================] - 0s 96ms/step\n",
            "1/1 [==============================] - 0s 69ms/step\n"
          ]
        },
        {
          "output_type": "execute_result",
          "data": {
            "text/plain": [
              "array([[ True],\n",
              "       [ True],\n",
              "       [ True],\n",
              "       [ True],\n",
              "       [ True],\n",
              "       [ True],\n",
              "       [ True],\n",
              "       [ True],\n",
              "       [ True],\n",
              "       [ True]])"
            ]
          },
          "metadata": {},
          "execution_count": 115
        }
      ]
    },
    {
      "cell_type": "markdown",
      "source": [
        "#download a model from colab"
      ],
      "metadata": {
        "id": "lzTrF1X9c7G7"
      }
    },
    {
      "cell_type": "code",
      "source": [
        "from google.colab import files\n",
        "files.download(\"/content/model_2.h5\")"
      ],
      "metadata": {
        "id": "XoAohVO5dVMN"
      },
      "execution_count": null,
      "outputs": []
    },
    {
      "cell_type": "markdown",
      "source": [],
      "metadata": {
        "id": "U3Vd0iC1gXQp"
      }
    },
    {
      "cell_type": "markdown",
      "source": [
        "#a larger example"
      ],
      "metadata": {
        "id": "fcDvyjCXd6Tf"
      }
    },
    {
      "cell_type": "code",
      "source": [
        "#import required libraries\n",
        "import tensorflow as tf\n",
        "import pandas as pd\n",
        "import matplotlib.pyplot as plt\n",
        "\n",
        "insurance = pd.read_csv(\"https://raw.githubusercontent.com/stedy/Machine-Learning-with-R-datasets/master/insurance.csv\")"
      ],
      "metadata": {
        "id": "-0krcmfxe2tL"
      },
      "execution_count": null,
      "outputs": []
    },
    {
      "cell_type": "code",
      "source": [
        "insurance"
      ],
      "metadata": {
        "colab": {
          "base_uri": "https://localhost:8080/",
          "height": 423
        },
        "id": "Izy2D_Eogtby",
        "outputId": "db856c16-efb7-45ce-88b1-2d8bfaf382b8"
      },
      "execution_count": null,
      "outputs": [
        {
          "output_type": "execute_result",
          "data": {
            "text/plain": [
              "      age     sex     bmi  children smoker     region      charges\n",
              "0      19  female  27.900         0    yes  southwest  16884.92400\n",
              "1      18    male  33.770         1     no  southeast   1725.55230\n",
              "2      28    male  33.000         3     no  southeast   4449.46200\n",
              "3      33    male  22.705         0     no  northwest  21984.47061\n",
              "4      32    male  28.880         0     no  northwest   3866.85520\n",
              "...   ...     ...     ...       ...    ...        ...          ...\n",
              "1333   50    male  30.970         3     no  northwest  10600.54830\n",
              "1334   18  female  31.920         0     no  northeast   2205.98080\n",
              "1335   18  female  36.850         0     no  southeast   1629.83350\n",
              "1336   21  female  25.800         0     no  southwest   2007.94500\n",
              "1337   61  female  29.070         0    yes  northwest  29141.36030\n",
              "\n",
              "[1338 rows x 7 columns]"
            ],
            "text/html": [
              "\n",
              "\n",
              "  <div id=\"df-cd2fd7e5-06d7-4817-974a-c6cf98c3a86d\">\n",
              "    <div class=\"colab-df-container\">\n",
              "      <div>\n",
              "<style scoped>\n",
              "    .dataframe tbody tr th:only-of-type {\n",
              "        vertical-align: middle;\n",
              "    }\n",
              "\n",
              "    .dataframe tbody tr th {\n",
              "        vertical-align: top;\n",
              "    }\n",
              "\n",
              "    .dataframe thead th {\n",
              "        text-align: right;\n",
              "    }\n",
              "</style>\n",
              "<table border=\"1\" class=\"dataframe\">\n",
              "  <thead>\n",
              "    <tr style=\"text-align: right;\">\n",
              "      <th></th>\n",
              "      <th>age</th>\n",
              "      <th>sex</th>\n",
              "      <th>bmi</th>\n",
              "      <th>children</th>\n",
              "      <th>smoker</th>\n",
              "      <th>region</th>\n",
              "      <th>charges</th>\n",
              "    </tr>\n",
              "  </thead>\n",
              "  <tbody>\n",
              "    <tr>\n",
              "      <th>0</th>\n",
              "      <td>19</td>\n",
              "      <td>female</td>\n",
              "      <td>27.900</td>\n",
              "      <td>0</td>\n",
              "      <td>yes</td>\n",
              "      <td>southwest</td>\n",
              "      <td>16884.92400</td>\n",
              "    </tr>\n",
              "    <tr>\n",
              "      <th>1</th>\n",
              "      <td>18</td>\n",
              "      <td>male</td>\n",
              "      <td>33.770</td>\n",
              "      <td>1</td>\n",
              "      <td>no</td>\n",
              "      <td>southeast</td>\n",
              "      <td>1725.55230</td>\n",
              "    </tr>\n",
              "    <tr>\n",
              "      <th>2</th>\n",
              "      <td>28</td>\n",
              "      <td>male</td>\n",
              "      <td>33.000</td>\n",
              "      <td>3</td>\n",
              "      <td>no</td>\n",
              "      <td>southeast</td>\n",
              "      <td>4449.46200</td>\n",
              "    </tr>\n",
              "    <tr>\n",
              "      <th>3</th>\n",
              "      <td>33</td>\n",
              "      <td>male</td>\n",
              "      <td>22.705</td>\n",
              "      <td>0</td>\n",
              "      <td>no</td>\n",
              "      <td>northwest</td>\n",
              "      <td>21984.47061</td>\n",
              "    </tr>\n",
              "    <tr>\n",
              "      <th>4</th>\n",
              "      <td>32</td>\n",
              "      <td>male</td>\n",
              "      <td>28.880</td>\n",
              "      <td>0</td>\n",
              "      <td>no</td>\n",
              "      <td>northwest</td>\n",
              "      <td>3866.85520</td>\n",
              "    </tr>\n",
              "    <tr>\n",
              "      <th>...</th>\n",
              "      <td>...</td>\n",
              "      <td>...</td>\n",
              "      <td>...</td>\n",
              "      <td>...</td>\n",
              "      <td>...</td>\n",
              "      <td>...</td>\n",
              "      <td>...</td>\n",
              "    </tr>\n",
              "    <tr>\n",
              "      <th>1333</th>\n",
              "      <td>50</td>\n",
              "      <td>male</td>\n",
              "      <td>30.970</td>\n",
              "      <td>3</td>\n",
              "      <td>no</td>\n",
              "      <td>northwest</td>\n",
              "      <td>10600.54830</td>\n",
              "    </tr>\n",
              "    <tr>\n",
              "      <th>1334</th>\n",
              "      <td>18</td>\n",
              "      <td>female</td>\n",
              "      <td>31.920</td>\n",
              "      <td>0</td>\n",
              "      <td>no</td>\n",
              "      <td>northeast</td>\n",
              "      <td>2205.98080</td>\n",
              "    </tr>\n",
              "    <tr>\n",
              "      <th>1335</th>\n",
              "      <td>18</td>\n",
              "      <td>female</td>\n",
              "      <td>36.850</td>\n",
              "      <td>0</td>\n",
              "      <td>no</td>\n",
              "      <td>southeast</td>\n",
              "      <td>1629.83350</td>\n",
              "    </tr>\n",
              "    <tr>\n",
              "      <th>1336</th>\n",
              "      <td>21</td>\n",
              "      <td>female</td>\n",
              "      <td>25.800</td>\n",
              "      <td>0</td>\n",
              "      <td>no</td>\n",
              "      <td>southwest</td>\n",
              "      <td>2007.94500</td>\n",
              "    </tr>\n",
              "    <tr>\n",
              "      <th>1337</th>\n",
              "      <td>61</td>\n",
              "      <td>female</td>\n",
              "      <td>29.070</td>\n",
              "      <td>0</td>\n",
              "      <td>yes</td>\n",
              "      <td>northwest</td>\n",
              "      <td>29141.36030</td>\n",
              "    </tr>\n",
              "  </tbody>\n",
              "</table>\n",
              "<p>1338 rows × 7 columns</p>\n",
              "</div>\n",
              "      <button class=\"colab-df-convert\" onclick=\"convertToInteractive('df-cd2fd7e5-06d7-4817-974a-c6cf98c3a86d')\"\n",
              "              title=\"Convert this dataframe to an interactive table.\"\n",
              "              style=\"display:none;\">\n",
              "\n",
              "  <svg xmlns=\"http://www.w3.org/2000/svg\" height=\"24px\"viewBox=\"0 0 24 24\"\n",
              "       width=\"24px\">\n",
              "    <path d=\"M0 0h24v24H0V0z\" fill=\"none\"/>\n",
              "    <path d=\"M18.56 5.44l.94 2.06.94-2.06 2.06-.94-2.06-.94-.94-2.06-.94 2.06-2.06.94zm-11 1L8.5 8.5l.94-2.06 2.06-.94-2.06-.94L8.5 2.5l-.94 2.06-2.06.94zm10 10l.94 2.06.94-2.06 2.06-.94-2.06-.94-.94-2.06-.94 2.06-2.06.94z\"/><path d=\"M17.41 7.96l-1.37-1.37c-.4-.4-.92-.59-1.43-.59-.52 0-1.04.2-1.43.59L10.3 9.45l-7.72 7.72c-.78.78-.78 2.05 0 2.83L4 21.41c.39.39.9.59 1.41.59.51 0 1.02-.2 1.41-.59l7.78-7.78 2.81-2.81c.8-.78.8-2.07 0-2.86zM5.41 20L4 18.59l7.72-7.72 1.47 1.35L5.41 20z\"/>\n",
              "  </svg>\n",
              "      </button>\n",
              "\n",
              "\n",
              "\n",
              "    <div id=\"df-78da11ca-2360-45f5-9e5f-7f1533fb5646\">\n",
              "      <button class=\"colab-df-quickchart\" onclick=\"quickchart('df-78da11ca-2360-45f5-9e5f-7f1533fb5646')\"\n",
              "              title=\"Suggest charts.\"\n",
              "              style=\"display:none;\">\n",
              "\n",
              "<svg xmlns=\"http://www.w3.org/2000/svg\" height=\"24px\"viewBox=\"0 0 24 24\"\n",
              "     width=\"24px\">\n",
              "    <g>\n",
              "        <path d=\"M19 3H5c-1.1 0-2 .9-2 2v14c0 1.1.9 2 2 2h14c1.1 0 2-.9 2-2V5c0-1.1-.9-2-2-2zM9 17H7v-7h2v7zm4 0h-2V7h2v10zm4 0h-2v-4h2v4z\"/>\n",
              "    </g>\n",
              "</svg>\n",
              "      </button>\n",
              "    </div>\n",
              "\n",
              "<style>\n",
              "  .colab-df-quickchart {\n",
              "    background-color: #E8F0FE;\n",
              "    border: none;\n",
              "    border-radius: 50%;\n",
              "    cursor: pointer;\n",
              "    display: none;\n",
              "    fill: #1967D2;\n",
              "    height: 32px;\n",
              "    padding: 0 0 0 0;\n",
              "    width: 32px;\n",
              "  }\n",
              "\n",
              "  .colab-df-quickchart:hover {\n",
              "    background-color: #E2EBFA;\n",
              "    box-shadow: 0px 1px 2px rgba(60, 64, 67, 0.3), 0px 1px 3px 1px rgba(60, 64, 67, 0.15);\n",
              "    fill: #174EA6;\n",
              "  }\n",
              "\n",
              "  [theme=dark] .colab-df-quickchart {\n",
              "    background-color: #3B4455;\n",
              "    fill: #D2E3FC;\n",
              "  }\n",
              "\n",
              "  [theme=dark] .colab-df-quickchart:hover {\n",
              "    background-color: #434B5C;\n",
              "    box-shadow: 0px 1px 3px 1px rgba(0, 0, 0, 0.15);\n",
              "    filter: drop-shadow(0px 1px 2px rgba(0, 0, 0, 0.3));\n",
              "    fill: #FFFFFF;\n",
              "  }\n",
              "</style>\n",
              "\n",
              "    <script>\n",
              "      async function quickchart(key) {\n",
              "        const containerElement = document.querySelector('#' + key);\n",
              "        const charts = await google.colab.kernel.invokeFunction(\n",
              "            'suggestCharts', [key], {});\n",
              "      }\n",
              "    </script>\n",
              "\n",
              "      <script>\n",
              "\n",
              "function displayQuickchartButton(domScope) {\n",
              "  let quickchartButtonEl =\n",
              "    domScope.querySelector('#df-78da11ca-2360-45f5-9e5f-7f1533fb5646 button.colab-df-quickchart');\n",
              "  quickchartButtonEl.style.display =\n",
              "    google.colab.kernel.accessAllowed ? 'block' : 'none';\n",
              "}\n",
              "\n",
              "        displayQuickchartButton(document);\n",
              "      </script>\n",
              "      <style>\n",
              "    .colab-df-container {\n",
              "      display:flex;\n",
              "      flex-wrap:wrap;\n",
              "      gap: 12px;\n",
              "    }\n",
              "\n",
              "    .colab-df-convert {\n",
              "      background-color: #E8F0FE;\n",
              "      border: none;\n",
              "      border-radius: 50%;\n",
              "      cursor: pointer;\n",
              "      display: none;\n",
              "      fill: #1967D2;\n",
              "      height: 32px;\n",
              "      padding: 0 0 0 0;\n",
              "      width: 32px;\n",
              "    }\n",
              "\n",
              "    .colab-df-convert:hover {\n",
              "      background-color: #E2EBFA;\n",
              "      box-shadow: 0px 1px 2px rgba(60, 64, 67, 0.3), 0px 1px 3px 1px rgba(60, 64, 67, 0.15);\n",
              "      fill: #174EA6;\n",
              "    }\n",
              "\n",
              "    [theme=dark] .colab-df-convert {\n",
              "      background-color: #3B4455;\n",
              "      fill: #D2E3FC;\n",
              "    }\n",
              "\n",
              "    [theme=dark] .colab-df-convert:hover {\n",
              "      background-color: #434B5C;\n",
              "      box-shadow: 0px 1px 3px 1px rgba(0, 0, 0, 0.15);\n",
              "      filter: drop-shadow(0px 1px 2px rgba(0, 0, 0, 0.3));\n",
              "      fill: #FFFFFF;\n",
              "    }\n",
              "  </style>\n",
              "\n",
              "      <script>\n",
              "        const buttonEl =\n",
              "          document.querySelector('#df-cd2fd7e5-06d7-4817-974a-c6cf98c3a86d button.colab-df-convert');\n",
              "        buttonEl.style.display =\n",
              "          google.colab.kernel.accessAllowed ? 'block' : 'none';\n",
              "\n",
              "        async function convertToInteractive(key) {\n",
              "          const element = document.querySelector('#df-cd2fd7e5-06d7-4817-974a-c6cf98c3a86d');\n",
              "          const dataTable =\n",
              "            await google.colab.kernel.invokeFunction('convertToInteractive',\n",
              "                                                     [key], {});\n",
              "          if (!dataTable) return;\n",
              "\n",
              "          const docLinkHtml = 'Like what you see? Visit the ' +\n",
              "            '<a target=\"_blank\" href=https://colab.research.google.com/notebooks/data_table.ipynb>data table notebook</a>'\n",
              "            + ' to learn more about interactive tables.';\n",
              "          element.innerHTML = '';\n",
              "          dataTable['output_type'] = 'display_data';\n",
              "          await google.colab.output.renderOutput(dataTable, element);\n",
              "          const docLink = document.createElement('div');\n",
              "          docLink.innerHTML = docLinkHtml;\n",
              "          element.appendChild(docLink);\n",
              "        }\n",
              "      </script>\n",
              "    </div>\n",
              "  </div>\n"
            ]
          },
          "metadata": {},
          "execution_count": 118
        }
      ]
    },
    {
      "cell_type": "code",
      "source": [
        "insurance_one_hot = pd.get_dummies(insurance)"
      ],
      "metadata": {
        "id": "iWRE4BNjg79Q"
      },
      "execution_count": null,
      "outputs": []
    },
    {
      "cell_type": "code",
      "source": [
        "#create X and y values\n",
        "X = insurance_one_hot.drop(\"charges\", axis=1)\n",
        "y = insurance_one_hot.charges\n",
        "X, y\n"
      ],
      "metadata": {
        "colab": {
          "base_uri": "https://localhost:8080/"
        },
        "id": "RaP81VH0ij1W",
        "outputId": "d994313d-526f-4739-b801-b72611eb1224"
      },
      "execution_count": null,
      "outputs": [
        {
          "output_type": "execute_result",
          "data": {
            "text/plain": [
              "(      age     bmi  children  sex_female  sex_male  smoker_no  smoker_yes  \\\n",
              " 0      19  27.900         0           1         0          0           1   \n",
              " 1      18  33.770         1           0         1          1           0   \n",
              " 2      28  33.000         3           0         1          1           0   \n",
              " 3      33  22.705         0           0         1          1           0   \n",
              " 4      32  28.880         0           0         1          1           0   \n",
              " ...   ...     ...       ...         ...       ...        ...         ...   \n",
              " 1333   50  30.970         3           0         1          1           0   \n",
              " 1334   18  31.920         0           1         0          1           0   \n",
              " 1335   18  36.850         0           1         0          1           0   \n",
              " 1336   21  25.800         0           1         0          1           0   \n",
              " 1337   61  29.070         0           1         0          0           1   \n",
              " \n",
              "       region_northeast  region_northwest  region_southeast  region_southwest  \n",
              " 0                    0                 0                 0                 1  \n",
              " 1                    0                 0                 1                 0  \n",
              " 2                    0                 0                 1                 0  \n",
              " 3                    0                 1                 0                 0  \n",
              " 4                    0                 1                 0                 0  \n",
              " ...                ...               ...               ...               ...  \n",
              " 1333                 0                 1                 0                 0  \n",
              " 1334                 1                 0                 0                 0  \n",
              " 1335                 0                 0                 1                 0  \n",
              " 1336                 0                 0                 0                 1  \n",
              " 1337                 0                 1                 0                 0  \n",
              " \n",
              " [1338 rows x 11 columns],\n",
              " 0       16884.92400\n",
              " 1        1725.55230\n",
              " 2        4449.46200\n",
              " 3       21984.47061\n",
              " 4        3866.85520\n",
              "            ...     \n",
              " 1333    10600.54830\n",
              " 1334     2205.98080\n",
              " 1335     1629.83350\n",
              " 1336     2007.94500\n",
              " 1337    29141.36030\n",
              " Name: charges, Length: 1338, dtype: float64)"
            ]
          },
          "metadata": {},
          "execution_count": 122
        }
      ]
    },
    {
      "cell_type": "code",
      "source": [
        "#Create training and test sets\n",
        "from sklearn.model_selection import train_test_split\n",
        "X_train, X_test, y_train, y_test = train_test_split(X, y, test_size=0.2, random_state=0)"
      ],
      "metadata": {
        "id": "g2-tHSwXjocy"
      },
      "execution_count": null,
      "outputs": []
    },
    {
      "cell_type": "code",
      "source": [
        "#build a neural network\n",
        "#set random seed\n",
        "tf.random.set_seed(8)\n",
        "\n",
        "#1. create a model\n",
        "insurance_model = tf.keras.Sequential([\n",
        "    tf.keras.layers.Dense(10),\n",
        "    tf.keras.layers.Dense(1, name=\"output_layer\")\n",
        "    ])\n",
        "\n",
        "#2. compile the model\n",
        "insurance_model.compile(loss=tf.keras.losses.mae,\n",
        "              optimizer=tf.keras.optimizers.SGD(),\n",
        "              metrics=[\"mae\"])\n",
        "\n",
        "#3 fit model\n",
        "insurance_model.fit(X_train, y_train, epochs=100, verbose=0)\n",
        "\n",
        "#4 evaluate\n",
        "insurance_model.evaluate(X_test, y_test)\n",
        "\n"
      ],
      "metadata": {
        "colab": {
          "base_uri": "https://localhost:8080/"
        },
        "id": "IznmiJxtlEXS",
        "outputId": "d904e851-379f-4859-cd9f-5e20b5a8ed2b"
      },
      "execution_count": null,
      "outputs": [
        {
          "output_type": "stream",
          "name": "stdout",
          "text": [
            "9/9 [==============================] - 0s 2ms/step - loss: 8543.0049 - mae: 8543.0049\n"
          ]
        },
        {
          "output_type": "execute_result",
          "data": {
            "text/plain": [
              "[8543.0048828125, 8543.0048828125]"
            ]
          },
          "metadata": {},
          "execution_count": 142
        }
      ]
    },
    {
      "cell_type": "code",
      "source": [
        "y_train.median(), y_train.mean()"
      ],
      "metadata": {
        "colab": {
          "base_uri": "https://localhost:8080/"
        },
        "id": "fIi5EV_FnDve",
        "outputId": "26b1f168-9a2a-460c-a7ec-3c5651fe1ffd"
      },
      "execution_count": null,
      "outputs": [
        {
          "output_type": "execute_result",
          "data": {
            "text/plain": [
              "(9440.087825, 13201.182056009346)"
            ]
          },
          "metadata": {},
          "execution_count": 131
        }
      ]
    },
    {
      "cell_type": "code",
      "source": [
        "#build a neural network\n",
        "#set random seed\n",
        "tf.random.set_seed(8)\n",
        "\n",
        "#1. create a model\n",
        "insurance_model4 = tf.keras.Sequential([\n",
        "\n",
        "    tf.keras.layers.Dense(100),\n",
        "    tf.keras.layers.Dense(10),\n",
        "    tf.keras.layers.Dense(1)\n",
        "    ])\n",
        "\n",
        "#2. compile the model\n",
        "insurance_model4.compile(loss=tf.keras.losses.mae,\n",
        "              optimizer=tf.keras.optimizers.Adam(),\n",
        "              metrics=[\"mae\"])\n",
        "\n",
        "#3 fit model\n",
        "history = insurance_model4.fit(X_train, y_train, epochs=200, verbose=0)\n",
        "\n",
        "#4 evaluate\n",
        "print(\"training error: \", insurance_model4.evaluate(X_train, y_train))\n",
        "print(\"test error: \", insurance_model4.evaluate(X_test, y_test))"
      ],
      "metadata": {
        "colab": {
          "base_uri": "https://localhost:8080/"
        },
        "id": "isuTEA7YoDY_",
        "outputId": "0e74e2ca-fa1b-49e3-8a9b-80a4f88ec409"
      },
      "execution_count": null,
      "outputs": [
        {
          "output_type": "stream",
          "name": "stdout",
          "text": [
            "34/34 [==============================] - 0s 2ms/step - loss: 3664.9729 - mae: 3664.9729\n",
            "training error:  [3664.972900390625, 3664.972900390625]\n",
            "9/9 [==============================] - 0s 3ms/step - loss: 3611.2849 - mae: 3611.2849\n",
            "test error:  [3611.284912109375, 3611.284912109375]\n"
          ]
        }
      ]
    },
    {
      "cell_type": "code",
      "source": [
        "pd.DataFrame(history.history).plot()\n",
        "plt.ylabel(\"loss\")\n",
        "plt.xlabel(\"epochs\")"
      ],
      "metadata": {
        "colab": {
          "base_uri": "https://localhost:8080/",
          "height": 466
        },
        "id": "Lk35owyPtHpt",
        "outputId": "ab71a704-9e7d-40d3-ad86-fec1b1fa9002"
      },
      "execution_count": null,
      "outputs": [
        {
          "output_type": "execute_result",
          "data": {
            "text/plain": [
              "Text(0.5, 0, 'epochs')"
            ]
          },
          "metadata": {},
          "execution_count": 156
        },
        {
          "output_type": "display_data",
          "data": {
            "text/plain": [
              "<Figure size 640x480 with 1 Axes>"
            ],
            "image/png": "[encoded data removed]"
          },
          "metadata": {}
        }
      ]
    },
    {
      "cell_type": "code",
      "source": [],
      "metadata": {
        "id": "KLqesXa64cNc"
      },
      "execution_count": null,
      "outputs": []
    },
    {
      "cell_type": "markdown",
      "source": [
        "#preprocessing data: normalization and standarization\n"
      ],
      "metadata": {
        "id": "x96Vt-c4wkcZ"
      }
    },
    {
      "cell_type": "code",
      "source": [
        "#import required libraries\n",
        "import tensorflow as tf\n",
        "import pandas as pd\n",
        "import matplotlib.pyplot as plt\n",
        "\n",
        "insurance = pd.read_csv(\"https://raw.githubusercontent.com/stedy/Machine-Learning-with-R-datasets/master/insurance.csv\")\n"
      ],
      "metadata": {
        "id": "7x_pj8hXwqOr"
      },
      "execution_count": null,
      "outputs": []
    },
    {
      "cell_type": "code",
      "source": [
        "from sklearn.compose import make_column_transformer\n",
        "from sklearn.preprocessing import MinMaxScaler, OneHotEncoder\n",
        "from sklearn.model_selection import train_test_split\n",
        "\n",
        "#create column transformer\n",
        "ct = make_column_transformer((MinMaxScaler(), [\"age\", \"bmi\", \"children\"]),\n",
        "                             (OneHotEncoder(handle_unknown=\"ignore\"), [\"sex\", \"smoker\", \"region\"])\n",
        "                             )\n",
        "\n",
        "#create X & y\n",
        "X = insurance.drop(\"charges\", axis=1)\n",
        "y = insurance[\"charges\"]\n",
        "\n",
        "#Build training and test datsets\n",
        "X_train, X_test, y_train, y_test = train_test_split(X, y, test_size=0.2, random_state=8)\n",
        "\n",
        "#Fit column transformer to training data\n",
        "ct.fit(X_train)\n",
        "\n",
        "#Transform training and test data\n",
        "X_train_normal = ct.transform(X_train)\n",
        "X_test_normal = ct.transform(X_test)\n"
      ],
      "metadata": {
        "id": "efXrc0iGzD_B"
      },
      "execution_count": null,
      "outputs": []
    },
    {
      "cell_type": "code",
      "source": [
        "X_train.loc[0]"
      ],
      "metadata": {
        "colab": {
          "base_uri": "https://localhost:8080/"
        },
        "id": "4nsQEXNf1eJb",
        "outputId": "8be44e24-05dc-458e-c976-c2b4632d83bd"
      },
      "execution_count": null,
      "outputs": [
        {
          "output_type": "execute_result",
          "data": {
            "text/plain": [
              "age                19\n",
              "sex            female\n",
              "bmi              27.9\n",
              "children            0\n",
              "smoker            yes\n",
              "region      southwest\n",
              "Name: 0, dtype: object"
            ]
          },
          "metadata": {},
          "execution_count": 159
        }
      ]
    },
    {
      "cell_type": "code",
      "source": [
        "X_train_normal[0]"
      ],
      "metadata": {
        "colab": {
          "base_uri": "https://localhost:8080/"
        },
        "id": "vhvIhoq21lMx",
        "outputId": "7e31685e-bebc-49df-88a2-10bea820c5a2"
      },
      "execution_count": null,
      "outputs": [
        {
          "output_type": "execute_result",
          "data": {
            "text/plain": [
              "array([0.23913043, 0.37812318, 0.2       , 0.        , 1.        ,\n",
              "       1.        , 0.        , 1.        , 0.        , 0.        ,\n",
              "       0.        ])"
            ]
          },
          "metadata": {},
          "execution_count": 162
        }
      ]
    },
    {
      "cell_type": "code",
      "source": [
        "X_train.shape, X_train_normal.shape"
      ],
      "metadata": {
        "colab": {
          "base_uri": "https://localhost:8080/"
        },
        "id": "_equ2Iq22VQT",
        "outputId": "dc25e676-9cac-4409-c8c2-9cf41ef35cc3"
      },
      "execution_count": null,
      "outputs": [
        {
          "output_type": "execute_result",
          "data": {
            "text/plain": [
              "((1070, 6), (1070, 11))"
            ]
          },
          "metadata": {},
          "execution_count": 163
        }
      ]
    },
    {
      "cell_type": "code",
      "source": [
        "#build a neural network\n",
        "#set random seed\n",
        "tf.random.set_seed(8)\n",
        "\n",
        "#Build training and test datsets\n",
        "X_train, X_test, y_train, y_test = train_test_split(X, y, test_size=0.2, random_state=8)\n",
        "\n",
        "\n",
        "#1. create a model\n",
        "insurance_model5 = tf.keras.Sequential([\n",
        "\n",
        "    tf.keras.layers.Dense(100),\n",
        "    tf.keras.layers.Dense(10),\n",
        "    tf.keras.layers.Dense(1)\n",
        "    ])\n",
        "\n",
        "#2. compile the model\n",
        "insurance_model5.compile(loss=tf.keras.losses.mae,\n",
        "              optimizer=tf.keras.optimizers.Adam(),\n",
        "              metrics=[\"mae\"])\n",
        "\n",
        "#3 fit model\n",
        "history = insurance_model5.fit(X_train_normal, y_train, epochs=200, verbose=0)\n",
        "\n",
        "#4 evaluate\n",
        "print(\"training error: \", insurance_model5.evaluate(X_train_normal, y_train))\n",
        "print(\"test error: \", insurance_model5.evaluate(X_test_normal, y_test))\n",
        "\n",
        "#5 plot\n",
        "pd.DataFrame(history.history).plot()\n",
        "plt.ylabel(\"loss\")\n",
        "plt.xlabel(\"epochs\")"
      ],
      "metadata": {
        "colab": {
          "base_uri": "https://localhost:8080/",
          "height": 556
        },
        "id": "DwGThcxJ2mpD",
        "outputId": "7d362c5b-3b32-43df-a4f1-225d30c317e0"
      },
      "execution_count": null,
      "outputs": [
        {
          "output_type": "stream",
          "name": "stdout",
          "text": [
            "34/34 [==============================] - 0s 2ms/step - loss: 3248.2371 - mae: 3248.2371\n",
            "training error:  [3248.237060546875, 3248.237060546875]\n",
            "9/9 [==============================] - 0s 2ms/step - loss: 4044.4604 - mae: 4044.4604\n",
            "test error:  [4044.46044921875, 4044.46044921875]\n"
          ]
        },
        {
          "output_type": "execute_result",
          "data": {
            "text/plain": [
              "Text(0.5, 0, 'epochs')"
            ]
          },
          "metadata": {},
          "execution_count": 221
        },
        {
          "output_type": "display_data",
          "data": {
            "text/plain": [
              "<Figure size 640x480 with 1 Axes>"
            ],
            "image/png": "[encoded data removed]"
          },
          "metadata": {}
        }
      ]
    },
    {
      "cell_type": "code",
      "source": [
        "pd.DataFrame(history.history).plot()\n",
        "plt.ylabel(\"loss\")\n",
        "plt.xlabel(\"epochs\")"
      ],
      "metadata": {
        "colab": {
          "base_uri": "https://localhost:8080/",
          "height": 466
        },
        "id": "9sI3Mk1M4daN",
        "outputId": "0973cc68-9f8a-4195-9fef-75bd9a2bc221"
      },
      "execution_count": null,
      "outputs": [
        {
          "output_type": "execute_result",
          "data": {
            "text/plain": [
              "Text(0.5, 0, 'epochs')"
            ]
          },
          "metadata": {},
          "execution_count": 173
        },
        {
          "output_type": "display_data",
          "data": {
            "text/plain": [
              "<Figure size 640x480 with 1 Axes>"
            ],
            "image/png": "[encoded data removed]"
          },
          "metadata": {}
        }
      ]
    },
    {
      "cell_type": "code",
      "source": [
        "#build a neural network\n",
        "#set random seed\n",
        "tf.random.set_seed(8)\n",
        "\n",
        "#Build training and test datsets\n",
        "X_train, X_test, y_train, y_test = train_test_split(X, y, test_size=0.2, random_state=8)\n",
        "\n",
        "\n",
        "#1. create a model\n",
        "insurance_model5 = tf.keras.Sequential([\n",
        "\n",
        "  #tf.keras.layers.Dense(125),\n",
        "    tf.keras.layers.Dense(100),\n",
        "        tf.keras.layers.Dense(10),\n",
        "    tf.keras.layers.Dense(1)\n",
        "    ])\n",
        "\n",
        "#2. compile the model\n",
        "insurance_model5.compile(loss=tf.keras.losses.mae,\n",
        "              optimizer=tf.keras.optimizers.Adam(learning_rate=0.001),\n",
        "              metrics=[\"mae\"])\n",
        "\n",
        "#3 fit model\n",
        "history = insurance_model5.fit(X_train_normal, y_train, epochs=100, verbose=0)\n",
        "\n",
        "#4 evaluate\n",
        "print(\"training error: \", insurance_model5.evaluate(X_train_normal, y_train))\n",
        "print(\"test error: \", insurance_model5.evaluate(X_test_normal, y_test))\n",
        "\n",
        "#5 plot\n",
        "pd.DataFrame(history.history).plot()\n",
        "plt.ylabel(\"loss\")\n",
        "plt.xlabel(\"epochs\")"
      ],
      "metadata": {
        "colab": {
          "base_uri": "https://localhost:8080/",
          "height": 556
        },
        "id": "KpYBJFC85PmF",
        "outputId": "a593488e-88db-4d59-95ee-28afcee430ef"
      },
      "execution_count": null,
      "outputs": [
        {
          "output_type": "stream",
          "name": "stdout",
          "text": [
            "34/34 [==============================] - 0s 2ms/step - loss: 3481.1909 - mae: 3481.1909\n",
            "training error:  [3481.19091796875, 3481.19091796875]\n",
            "9/9 [==============================] - 0s 3ms/step - loss: 3838.9243 - mae: 3838.9243\n",
            "test error:  [3838.92431640625, 3838.92431640625]\n"
          ]
        },
        {
          "output_type": "execute_result",
          "data": {
            "text/plain": [
              "Text(0.5, 0, 'epochs')"
            ]
          },
          "metadata": {},
          "execution_count": 233
        },
        {
          "output_type": "display_data",
          "data": {
            "text/plain": [
              "<Figure size 640x480 with 1 Axes>"
            ],
            "image/png": "[encoded data removed]"
          },
          "metadata": {}
        }
      ]
    },
    {
      "cell_type": "code",
      "source": [
        "boston = tf.keras.datasets.boston_housing.load_data()\n",
        "    ##path='boston_housing.npz', test_split=0.2, seed=113\n",
        "#)\n",
        "x_train = boston[0][0]\n",
        "y_train = boston[0][1]\n",
        "x_test = boston[1][0]\n",
        "y_test = boston[1][1]"
      ],
      "metadata": {
        "id": "YgyBiiyN6ito"
      },
      "execution_count": null,
      "outputs": []
    },
    {
      "cell_type": "code",
      "source": [
        "x_train.shape, y_train.shape, x_test.shape, y_test.shape"
      ],
      "metadata": {
        "colab": {
          "base_uri": "https://localhost:8080/"
        },
        "id": "IQ-x8ubr9OJ4",
        "outputId": "38317db4-b3f5-4b63-85b0-83d87ccb0ec6"
      },
      "execution_count": null,
      "outputs": [
        {
          "output_type": "execute_result",
          "data": {
            "text/plain": [
              "((404, 13), (404,), (102, 13), (102,))"
            ]
          },
          "metadata": {},
          "execution_count": 196
        }
      ]
    },
    {
      "cell_type": "code",
      "source": [
        "y_train.mean()"
      ],
      "metadata": {
        "colab": {
          "base_uri": "https://localhost:8080/"
        },
        "id": "ygHmlfyb-JU-",
        "outputId": "453d9fdd-1ab1-4806-fb93-3f5ba6f731aa"
      },
      "execution_count": null,
      "outputs": [
        {
          "output_type": "execute_result",
          "data": {
            "text/plain": [
              "22.395049504950492"
            ]
          },
          "metadata": {},
          "execution_count": 199
        }
      ]
    },
    {
      "cell_type": "code",
      "source": [
        "y_baseline = tf.constant([22.39], shape = (102,))\n",
        "y_baseline\n",
        "print(\"baseline error: \", tf.keras.metrics.mean_absolute_error(y_baseline, y_test))"
      ],
      "metadata": {
        "colab": {
          "base_uri": "https://localhost:8080/"
        },
        "id": "qBdwqlkL_H-c",
        "outputId": "0ba5f26a-2ef6-4abd-ccc7-394716c752d1"
      },
      "execution_count": null,
      "outputs": [
        {
          "output_type": "stream",
          "name": "stdout",
          "text": [
            "baseline error:  tf.Tensor(6.532745062136183, shape=(), dtype=float64)\n"
          ]
        }
      ]
    },
    {
      "cell_type": "code",
      "source": [
        "#build a neural network\n",
        "#set random seed\n",
        "tf.random.set_seed(8)\n",
        "\n",
        "#1. create a model\n",
        "boston1 = tf.keras.Sequential([\n",
        "    tf.keras.layers.Dense(125),\n",
        "    tf.keras.layers.Dense(25),\n",
        "        tf.keras.layers.Dense(5),\n",
        "\n",
        "    tf.keras.layers.Dense(1)\n",
        "    ])\n",
        "\n",
        "#2. compile the model\n",
        "boston1.compile(loss=tf.keras.losses.mae,\n",
        "              optimizer=tf.keras.optimizers.Adam(learning_rate=0.0001),\n",
        "              metrics=[\"mae\"])\n",
        "\n",
        "#3 fit model\n",
        "history = boston1.fit(x_train, y_train, epochs=100, verbose=0)\n",
        "\n",
        "#4 evaluate\n",
        "print(\"training error: \", boston1.evaluate(x_train, y_train))\n",
        "print(\"test error: \", boston1.evaluate(x_test, y_test))\n",
        "print(\"baseline error: \", tf.keras.metrics.mean_absolute_error(y_baseline, y_test))\n",
        "\n",
        "#5 plot\n",
        "pd.DataFrame(history.history).plot()\n",
        "plt.ylabel(\"loss\")\n",
        "plt.xlabel(\"epochs\")"
      ],
      "metadata": {
        "colab": {
          "base_uri": "https://localhost:8080/",
          "height": 553
        },
        "id": "9huc-z7B9Whi",
        "outputId": "6312a15f-526d-47de-8edb-8f836b296ddc"
      },
      "execution_count": null,
      "outputs": [
        {
          "output_type": "stream",
          "name": "stdout",
          "text": [
            "13/13 [==============================] - 0s 3ms/step - loss: 4.6539 - mae: 4.6539\n",
            "training error:  [4.653867721557617, 4.653867721557617]\n",
            "4/4 [==============================] - 0s 4ms/step - loss: 4.8033 - mae: 4.8033\n",
            "test error:  [4.803256988525391, 4.803256988525391]\n",
            "baseline error:  tf.Tensor(6.532745062136183, shape=(), dtype=float64)\n"
          ]
        },
        {
          "output_type": "execute_result",
          "data": {
            "text/plain": [
              "Text(0.5, 0, 'epochs')"
            ]
          },
          "metadata": {},
          "execution_count": 219
        },
        {
          "output_type": "display_data",
          "data": {
            "text/plain": [
              "<Figure size 640x480 with 1 Axes>"
            ],
            "image/png": "[encoded data removed]"
          },
          "metadata": {}
        }
      ]
    }
  ]
}